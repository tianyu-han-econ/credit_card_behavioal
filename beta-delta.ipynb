{
 "cells": [
  {
   "cell_type": "code",
   "execution_count": 1,
   "metadata": {},
   "outputs": [],
   "source": [
    "from lib import *"
   ]
  },
  {
   "cell_type": "code",
   "execution_count": 2,
   "metadata": {},
   "outputs": [],
   "source": [
    "import tensorflow as tf\n",
    "import tensorflow_probability as tfp"
   ]
  },
  {
   "cell_type": "code",
   "execution_count": 1465,
   "metadata": {},
   "outputs": [],
   "source": [
    "T       = 60-38+1\n",
    "n_draw  = 1000\n",
    "ρ       = .03\n",
    "σ       = .1\n",
    "nburn   = 20\n",
    "p       = .5\n",
    "yh      = (1+ρ+.1*np.sqrt(2/np.pi))/10\n",
    "yl      = (1+ρ-.1*np.sqrt(2/np.pi))/10\n",
    "\n",
    "γ      = 3\n",
    "δ      = .95\n",
    "β      = .8\n",
    "α      = 1.5\n",
    "Rs     = 1+.022\n",
    "Rb     = 1+.197"
   ]
  },
  {
   "cell_type": "code",
   "execution_count": 1466,
   "metadata": {},
   "outputs": [],
   "source": [
    "num_results = T+nburn\n",
    "dim = n_draw\n",
    "sample = tfp.mcmc.sample_halton_sequence(\n",
    "  dim,\n",
    "  num_results=num_results,\n",
    "  seed=575)\n",
    "y_eps = norm.ppf(sample)*σ\n"
   ]
  },
  {
   "cell_type": "code",
   "execution_count": 1467,
   "metadata": {},
   "outputs": [],
   "source": [
    "\n",
    "y_pro = np.zeros(y_eps.shape)\n",
    "y_pro[0, :]  = 1+y_eps[0, :]\n",
    "\n",
    "\n",
    "for i in range(1, T+nburn):\n",
    "    y_pro[i, :] = y_pro[i-1, :]*(1+ρ)+y_eps[i, :]\n",
    "    \n",
    "y_pro = y_pro[nburn:, :]"
   ]
  },
  {
   "cell_type": "code",
   "execution_count": 1468,
   "metadata": {},
   "outputs": [],
   "source": [
    "# ave income at age 38: 1.8\n",
    "# mean(range) log(1+y/s) from data: .25 (.05, .6)  \n",
    "\n",
    "y_s = np.linspace(.8, 2.8, 50)\n",
    "s_grid = 1.8/y_s\n",
    "s_grid.sort()\n",
    "\n",
    "# mean(range) log(1+b/y) from data: .25 (.05, .6)  \n",
    "\n",
    "b_y = np.linspace(-4.6, -0.6, 49)\n",
    "b_grid = np.exp(b_y)*1.8\n",
    "b_grid.sort()\n",
    "\n",
    "b_grid = np.insert(b_grid, 0, 0)"
   ]
  },
  {
   "cell_type": "code",
   "execution_count": 1469,
   "metadata": {},
   "outputs": [],
   "source": [
    "y = 1.03"
   ]
  },
  {
   "cell_type": "code",
   "execution_count": null,
   "metadata": {},
   "outputs": [],
   "source": []
  },
  {
   "cell_type": "code",
   "execution_count": 1470,
   "metadata": {},
   "outputs": [],
   "source": [
    "N_grid_a   = 50\n",
    "N_grid_b   = 50\n",
    "N_grid_tot = N_grid_a*N_grid_b\n",
    "\n",
    "\n",
    "a_grid0 = np.linspace(1, 10, N_grid_a).reshape(N_grid_a,1)\n",
    "b_grid0 = np.linspace(0, 10, N_grid_b).reshape(N_grid_b,1)\n",
    "\n",
    "# change N_grid_a X N_grid_b grid to N_grid_a*N_grid_b X 1 \n",
    "# value matrix has (a_{t,1}, b_{t-1,1}), (a_{t,2}, b_{t-1,2}) .....\n",
    "\n",
    "a_grid = np.repeat(a_grid0, N_grid_b, axis=0)\n",
    "b_grid = np.tile(b_grid0, (N_grid_a,1))"
   ]
  },
  {
   "cell_type": "code",
   "execution_count": 1471,
   "metadata": {},
   "outputs": [],
   "source": [
    "ct_mat       = np.zeros((N_grid_tot, N_grid_tot))\n",
    "ct_mat2h     = np.zeros((N_grid_tot, N_grid_tot))\n",
    "ct_mat2l     = np.zeros((N_grid_tot, N_grid_tot))\n",
    "\n",
    "ct_mat0h     = np.zeros((N_grid_tot, N_grid_tot))\n",
    "ct_mat0l     = np.zeros((N_grid_tot, N_grid_tot))\n",
    "\n",
    "\n",
    "V_tuple      = np.zeros((N_grid_tot, N_grid_tot))\n",
    "pol_func_a   = np.zeros((N_grid_tot, T+1))\n",
    "pol_func_b   = np.zeros((N_grid_tot, T+1))\n",
    "pol_func_c   = np.zeros((N_grid_tot, T+1))\n",
    "\n",
    "\n",
    "VT           = np.tile(a_grid.T,(N_grid_tot, 1))\n",
    "Vt           = np.tile(a_grid,(1, N_grid_tot))\n",
    "#Vt           = np.tile(a_grid.T,(N_grid_tot,1))\n",
    "\n",
    "\n",
    "\n",
    "y = 1.03"
   ]
  },
  {
   "cell_type": "code",
   "execution_count": null,
   "metadata": {},
   "outputs": [],
   "source": []
  },
  {
   "cell_type": "code",
   "execution_count": 1472,
   "metadata": {},
   "outputs": [],
   "source": [
    "def u(x) :\n",
    "    return ((x)**(1-γ)-10)/(1-γ)"
   ]
  },
  {
   "cell_type": "code",
   "execution_count": 1473,
   "metadata": {},
   "outputs": [],
   "source": [
    "# c = a-(a' + Rb b)/Rs \n",
    "for i in range(N_grid_tot):\n",
    "    ct_mat[:,i] = (a_grid-(a_grid[i]+Rb*b_grid)/Rs).T\n",
    "ct_mat[ct_mat<0] = np.nan\n",
    "\n",
    "# c = a-(a'-y'-b' + Rb b)/Rs \n",
    "\n",
    "for i in range(N_grid_tot):\n",
    "    ct_mat2h[:,i] = (a_grid-(a_grid[i]+Rb*b_grid-yh/10-b_grid[i])/Rs).T\n",
    "    ct_mat2l[:,i] = (a_grid-(a_grid[i]+Rb*b_grid-yl/10-b_grid[i])/Rs).T\n",
    "    \n",
    "    ct_mat0h[:,i] = (a_grid-(a_grid[i]-yh/10-b_grid[i])/Rs).T\n",
    "    ct_mat0l[:,i] = (a_grid-(a_grid[i]-yl/10-b_grid[i])/Rs).T\n",
    "    \n",
    "ct_mat2h[ct_mat2h<0] = np.nan\n",
    "ct_mat2l[ct_mat2l<0] = np.nan\n",
    "ct_mat0h[ct_mat0h<0] = np.nan\n",
    "ct_mat0l[ct_mat0l<0] = np.nan\n",
    "\n"
   ]
  },
  {
   "cell_type": "code",
   "execution_count": null,
   "metadata": {},
   "outputs": [],
   "source": []
  },
  {
   "cell_type": "code",
   "execution_count": null,
   "metadata": {},
   "outputs": [],
   "source": []
  },
  {
   "cell_type": "code",
   "execution_count": null,
   "metadata": {},
   "outputs": [],
   "source": []
  },
  {
   "cell_type": "code",
   "execution_count": null,
   "metadata": {},
   "outputs": [],
   "source": []
  },
  {
   "cell_type": "code",
   "execution_count": null,
   "metadata": {},
   "outputs": [],
   "source": []
  },
  {
   "cell_type": "code",
   "execution_count": 1474,
   "metadata": {},
   "outputs": [],
   "source": [
    "aT = np.tile(a_grid.T,(N_grid_tot,1))\n",
    "aT[aT<0] = np.nan\n",
    "vmax      = 20*u(aT/20)\n",
    "vmax1     = 20*u(aT/20)\n",
    "\n",
    "\n",
    "pol_func_a[:,T-1] = a_grid.T\n",
    "pol_func_b[:,T-1] = b_grid.T\n",
    "\n",
    "V_tuple    = u(ct_mat) + u(α*Vt) + β*δ*vmax1\n",
    "V_tuple1   = u(ct_mat) + u(α*Vt) + δ*vmax1\n",
    "a = vmax1.copy()\n",
    "\n",
    "vmax    = np.nanmax(V_tuple,1)\n",
    "vmax1   = vmax.copy()\n",
    "\n",
    "for i in range(N_grid_tot):\n",
    "    pol_func_a[i,T] = np.nan\n",
    "    pol_func_b[i,T] = np.nan\n",
    "    pol_func_c[i,T-1] = np.nan\n",
    "    vmax1[i]        = np.nan     \n",
    "    \n",
    "    \n",
    "    if ~np.isnan(vmax[i]):\n",
    "        pol_func_a[i,T] = a_grid[np.where(vmax[i]== V_tuple[i,:])[0][0]]\n",
    "        pol_func_b[i,T] = b_grid[np.where(vmax[i]== V_tuple[i,:])[0][0]]\n",
    "        pol_func_c[i,T-1] = ct_mat[i,np.where(vmax[i]== V_tuple[i,:])[0][0]]\n",
    "        vmax1[i]        = V_tuple1[i,np.where(vmax[i]== V_tuple[i,:])[0][0]]\n",
    "\n",
    "\n",
    "\n"
   ]
  },
  {
   "cell_type": "code",
   "execution_count": null,
   "metadata": {},
   "outputs": [],
   "source": []
  },
  {
   "cell_type": "code",
   "execution_count": null,
   "metadata": {},
   "outputs": [],
   "source": []
  },
  {
   "cell_type": "code",
   "execution_count": 1475,
   "metadata": {},
   "outputs": [],
   "source": [
    "for t in range(22, 0, -1):\n",
    "    pol_func_a0 = pol_func_a.copy()\n",
    "    pol_func_b0 = pol_func_b.copy()\n",
    "    vmax_grid   = np.tile(vmax1,(N_grid_tot,1))\n",
    "    V_tuple     = .5*(u(ct_mat2h)+u(ct_mat2l)) + u(α*Vt) + β*δ*vmax_grid\n",
    "    V_tuple1    = .5*(u(ct_mat2h)+u(ct_mat2l)) + u(α*Vt) + δ*vmax_grid\n",
    "    \n",
    "    \n",
    "    vmax    = np.nanmax(V_tuple,1)\n",
    "    vmax1   = vmax.copy()\n",
    "    \n",
    "    pol_func_a[:,t-1] = a_grid.T\n",
    "    pol_func_b[:,t-1] = b_grid.T\n",
    "\n",
    "    for i in range(N_grid_tot):\n",
    "        pol_func_a[i,t] = np.nan\n",
    "        pol_func_b[i,t] = np.nan\n",
    "        pol_func_c[i,t-1] = np.nan\n",
    "        vmax1[i]        = np.nan     \n",
    "        \n",
    "        if ~np.isnan(vmax[i]):\n",
    "            choice = np.where(vmax[i] == V_tuple[i,:])[0][-1]\n",
    "            pol_func_a[i,t:]  = pol_func_a0[choice,t:]\n",
    "            pol_func_b[i,t:]  = pol_func_b0[choice,t:]\n",
    "            pol_func_c[i,t-1] = (ct_mat2h[i,choice]+ct_mat2l[i,choice])/2\n",
    "            vmax1[i]          = V_tuple1[i,np.where(vmax[i] == V_tuple[i,:])[0][-1]]\n",
    "\n",
    "    "
   ]
  },
  {
   "cell_type": "code",
   "execution_count": null,
   "metadata": {},
   "outputs": [],
   "source": []
  },
  {
   "cell_type": "code",
   "execution_count": null,
   "metadata": {},
   "outputs": [],
   "source": []
  },
  {
   "cell_type": "code",
   "execution_count": null,
   "metadata": {},
   "outputs": [],
   "source": []
  },
  {
   "cell_type": "code",
   "execution_count": 1476,
   "metadata": {},
   "outputs": [],
   "source": [
    "pol_func_a0 = pol_func_a.copy()\n",
    "pol_func_b0 = pol_func_b.copy()\n",
    "vmax_grid   = np.tile(vmax1,(N_grid_tot,1))\n",
    "V_tuple     = .5*(u(ct_mat0h)+u(ct_mat0l)) + u(α*Vt) + β*δ*vmax1\n",
    "V_tuple1    = .5*(u(ct_mat0h)+u(ct_mat0l)) + u(α*Vt) + δ*vmax1\n",
    "\n",
    "\n",
    "vmax    = np.nanmax(V_tuple,1)\n",
    "vmax1   = vmax.copy()\n",
    "\n",
    "pol_func_a[:,0] = a_grid.T\n",
    "pol_func_b[:,0] = 0\n",
    "\n",
    "for i in range(N_grid_tot):\n",
    "    pol_func_a[i,1] = np.nan\n",
    "    pol_func_b[i,1] = np.nan\n",
    "    vmax1[i]        = np.nan     \n",
    "\n",
    "    if ~np.isnan(vmax[i]):\n",
    "        pol_func_a[i,1:] = pol_func_a0[np.where(vmax[i] == V_tuple[i,:])[0][0],1:]\n",
    "        pol_func_b[i,1:] = pol_func_b0[np.where(vmax[i] == V_tuple[i,:])[0][0],1:]\n",
    "        vmax1[i]         = V_tuple1[i,np.where(vmax[i] == V_tuple[i,:])[0][0]]\n",
    "\n",
    "\n"
   ]
  },
  {
   "cell_type": "code",
   "execution_count": null,
   "metadata": {},
   "outputs": [],
   "source": []
  },
  {
   "cell_type": "code",
   "execution_count": 1477,
   "metadata": {},
   "outputs": [],
   "source": [
    "vmax_mat = vmax.reshape(N_grid_a, N_grid_a)\n",
    "vmax0    = np.nanmax(vmax_mat,1)\n",
    "\n",
    "pol_a_mat = pol_func_a[:,1].reshape(N_grid_a, N_grid_a)\n",
    "pol_b_mat = pol_func_b[:,2].reshape(N_grid_a, N_grid_a)\n",
    "pol_c_mat = pol_func_c[:,1].reshape(N_grid_a, N_grid_a)\n",
    "\n",
    "\n",
    "\n",
    "\n",
    "pol_a     = vmax0.copy()\n",
    "pol_b     = vmax0.copy()\n",
    "pol_c     = vmax0.copy()"
   ]
  },
  {
   "cell_type": "code",
   "execution_count": 1478,
   "metadata": {},
   "outputs": [],
   "source": [
    "for i in range(N_grid_a):\n",
    "    pol_a[i]     = np.nan\n",
    "    pol_a[i]     = pol_a_mat[i,:][np.where(vmax0[i] == vmax_mat[i,:])[0][0]]\n",
    "    pol_b[i]     = np.nan\n",
    "    pol_b[i]     = pol_b_mat[i,:][np.where(vmax0[i] == vmax_mat[i,:])[0][0]]\n",
    "    pol_c[i]     = np.nan\n",
    "    pol_c[i]     = pol_c_mat[i,:][np.where(vmax0[i] == vmax_mat[i,:])[0][0]]\n"
   ]
  },
  {
   "cell_type": "code",
   "execution_count": null,
   "metadata": {},
   "outputs": [],
   "source": []
  },
  {
   "cell_type": "code",
   "execution_count": null,
   "metadata": {},
   "outputs": [],
   "source": []
  },
  {
   "cell_type": "code",
   "execution_count": null,
   "metadata": {},
   "outputs": [],
   "source": []
  },
  {
   "cell_type": "code",
   "execution_count": null,
   "metadata": {},
   "outputs": [],
   "source": []
  },
  {
   "cell_type": "code",
   "execution_count": null,
   "metadata": {},
   "outputs": [],
   "source": []
  },
  {
   "cell_type": "code",
   "execution_count": null,
   "metadata": {},
   "outputs": [],
   "source": []
  },
  {
   "cell_type": "code",
   "execution_count": null,
   "metadata": {},
   "outputs": [],
   "source": []
  },
  {
   "cell_type": "code",
   "execution_count": null,
   "metadata": {},
   "outputs": [],
   "source": []
  },
  {
   "cell_type": "code",
   "execution_count": null,
   "metadata": {},
   "outputs": [],
   "source": []
  },
  {
   "cell_type": "code",
   "execution_count": null,
   "metadata": {},
   "outputs": [],
   "source": []
  },
  {
   "cell_type": "code",
   "execution_count": null,
   "metadata": {},
   "outputs": [],
   "source": []
  },
  {
   "cell_type": "code",
   "execution_count": null,
   "metadata": {},
   "outputs": [],
   "source": []
  },
  {
   "cell_type": "code",
   "execution_count": null,
   "metadata": {},
   "outputs": [],
   "source": []
  },
  {
   "cell_type": "code",
   "execution_count": null,
   "metadata": {},
   "outputs": [],
   "source": []
  },
  {
   "cell_type": "code",
   "execution_count": 21,
   "metadata": {},
   "outputs": [],
   "source": []
  },
  {
   "cell_type": "code",
   "execution_count": 25,
   "metadata": {},
   "outputs": [],
   "source": []
  },
  {
   "cell_type": "code",
   "execution_count": 26,
   "metadata": {},
   "outputs": [],
   "source": []
  },
  {
   "cell_type": "code",
   "execution_count": 24,
   "metadata": {},
   "outputs": [],
   "source": []
  },
  {
   "cell_type": "code",
   "execution_count": null,
   "metadata": {},
   "outputs": [],
   "source": []
  },
  {
   "cell_type": "code",
   "execution_count": null,
   "metadata": {},
   "outputs": [],
   "source": []
  },
  {
   "cell_type": "code",
   "execution_count": 338,
   "metadata": {},
   "outputs": [],
   "source": []
  },
  {
   "cell_type": "code",
   "execution_count": null,
   "metadata": {},
   "outputs": [],
   "source": []
  },
  {
   "cell_type": "code",
   "execution_count": null,
   "metadata": {},
   "outputs": [],
   "source": []
  },
  {
   "cell_type": "code",
   "execution_count": null,
   "metadata": {},
   "outputs": [],
   "source": []
  }
 ],
 "metadata": {
  "kernelspec": {
   "display_name": "Python 3",
   "language": "python",
   "name": "python3"
  },
  "language_info": {
   "codemirror_mode": {
    "name": "ipython",
    "version": 3
   },
   "file_extension": ".py",
   "mimetype": "text/x-python",
   "name": "python",
   "nbconvert_exporter": "python",
   "pygments_lexer": "ipython3",
   "version": "3.7.10"
  },
  "varInspector": {
   "cols": {
    "lenName": 16,
    "lenType": 16,
    "lenVar": 40
   },
   "kernels_config": {
    "python": {
     "delete_cmd_postfix": "",
     "delete_cmd_prefix": "del ",
     "library": "var_list.py",
     "varRefreshCmd": "print(var_dic_list())"
    },
    "r": {
     "delete_cmd_postfix": ") ",
     "delete_cmd_prefix": "rm(",
     "library": "var_list.r",
     "varRefreshCmd": "cat(var_dic_list()) "
    }
   },
   "position": {
    "height": "399px",
    "left": "1118px",
    "right": "20px",
    "top": "120px",
    "width": "442px"
   },
   "types_to_exclude": [
    "module",
    "function",
    "builtin_function_or_method",
    "instance",
    "_Feature"
   ],
   "window_display": false
  }
 },
 "nbformat": 4,
 "nbformat_minor": 4
}
