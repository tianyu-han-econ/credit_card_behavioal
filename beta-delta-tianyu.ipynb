{
 "cells": [
  {
   "cell_type": "code",
   "execution_count": 1,
   "metadata": {
    "executionInfo": {
     "elapsed": 251,
     "status": "ok",
     "timestamp": 1614915594122,
     "user": {
      "displayName": "Tianyu Han",
      "photoUrl": "https://lh3.googleusercontent.com/a-/AOh14Gi-6Ly8O-nbbTozD9aepxxL1mC9fSU3wq6-nse01A=s64",
      "userId": "18020794539901871466"
     },
     "user_tz": 480
    },
    "id": "yGkIuIJca4gh"
   },
   "outputs": [],
   "source": [
    "import numpy as np\n",
    "import pandas as pd\n",
    "import matplotlib.pyplot as plt\n",
    "import seaborn as sns\n",
    "\n",
    "import pandas as pd\n",
    "\n",
    "# from scipy.stats import norm\n",
    "\n",
    "# import tensorflow as tf\n",
    "# import tensorflow_probability as tfp\n",
    "\n",
    "pd.options.display.max_columns = None\n",
    "pd.options.display.max_rows = None"
   ]
  },
  {
   "cell_type": "code",
   "execution_count": 22,
   "metadata": {
    "executionInfo": {
     "elapsed": 396,
     "status": "ok",
     "timestamp": 1614915795035,
     "user": {
      "displayName": "Tianyu Han",
      "photoUrl": "https://lh3.googleusercontent.com/a-/AOh14Gi-6Ly8O-nbbTozD9aepxxL1mC9fSU3wq6-nse01A=s64",
      "userId": "18020794539901871466"
     },
     "user_tz": 480
    },
    "id": "SvP-1Q07a4gm"
   },
   "outputs": [],
   "source": [
    "np.random.seed(1234)\n",
    "\n",
    "T       = 65-21+1   # number of periods: 21-65\n",
    "# T = 20\n",
    "n_draw  = 1000      # number of simulations\n",
    "ρ       = .03       # income growth trend\n",
    "# σ       = .1        # income growth s.d.\n",
    "σ       = .1       \n",
    "\n",
    "p       = .5        # probability of income being high/low\n",
    "y       = 1      # intial value of income\n",
    "yh      = ((1+ρ)*y+.1*np.sqrt(2/np.pi))    # income high\n",
    "yl      = ((1+ρ)*y-.1*np.sqrt(2/np.pi))    # income low\n",
    "\n",
    "γ      = 3          # risk aversion coef \n",
    "δ      = .98        # hyperbolic discounting δ\n",
    "β      = .8         # hyperbolic discounting β\n",
    "# β      = 1\n",
    "# α      = 1.5        # demand for liquid asset\n",
    "α      = .015\n",
    "# α      = 0\n",
    "\n",
    "Rs     = 1+.072     # annual saving interest\n",
    "Rb     = 1+.197     # annual credit card interest"
   ]
  },
  {
   "cell_type": "code",
   "execution_count": 23,
   "metadata": {},
   "outputs": [],
   "source": [
    "y_eps = (np.random.randint(2,size=T)*2-1)*σ/np.sqrt(2*np.pi)\n",
    "# y_eps"
   ]
  },
  {
   "cell_type": "code",
   "execution_count": 24,
   "metadata": {},
   "outputs": [],
   "source": [
    "y_pro = np.ones(T)\n",
    "# y_pro[T-1] = 1000\n",
    "# for t in range(T-1,0,-1):\n",
    "#     y_pro[t-1] = (y_pro[t]-y_eps[t])/(1+ρ)\n",
    "# y_pro = y_pro/y_pro[0]\n",
    "\n",
    "# y_pro[0] = 1\n",
    "for t in range(1,T):\n",
    "    y_pro[t] = (1+ρ)*y_pro[t-1] + y_eps[t-1]\n",
    "# y_pro = y_pro/y_pro[0]\n",
    "# y_pro"
   ]
  },
  {
   "cell_type": "code",
   "execution_count": 25,
   "metadata": {},
   "outputs": [
    {
     "data": {
      "image/png": "[encoded data removed]",
      "text/plain": [
       "<Figure size 432x288 with 1 Axes>"
      ]
     },
     "metadata": {
      "needs_background": "light"
     },
     "output_type": "display_data"
    }
   ],
   "source": [
    "plt.plot([x for x in range(21,T+21)], y_pro)\n",
    "plt.xlabel('age')\n",
    "plt.ylabel('income');"
   ]
  },
  {
   "cell_type": "code",
   "execution_count": 26,
   "metadata": {},
   "outputs": [],
   "source": [
    "y_high = y_pro\n",
    "y_high[1:] = y_pro[:-1]+σ/np.sqrt(2*np.pi)\n",
    "\n",
    "y_low = y_pro\n",
    "y_low[1:]  = y_pro[:-1]-σ/np.sqrt(2*np.pi)"
   ]
  },
  {
   "cell_type": "code",
   "execution_count": 27,
   "metadata": {
    "executionInfo": {
     "elapsed": 2281,
     "status": "ok",
     "timestamp": 1614915797411,
     "user": {
      "displayName": "Tianyu Han",
      "photoUrl": "https://lh3.googleusercontent.com/a-/AOh14Gi-6Ly8O-nbbTozD9aepxxL1mC9fSU3wq6-nse01A=s64",
      "userId": "18020794539901871466"
     },
     "user_tz": 480
    },
    "id": "XkeWwP55a4gn"
   },
   "outputs": [],
   "source": [
    "# N_grid_a   = 50    # size of saving grid\n",
    "# N_grid_b   = 50    # size of debt grid\n",
    "\n",
    "N_grid_a   = 20    \n",
    "N_grid_b   = 20  \n",
    "\n",
    "N_grid_tot = N_grid_a*N_grid_b\n",
    "\n",
    "# # ave income at age 38: 1.8 *10k\n",
    "# y_s = np.linspace(.8, 2.8, N_grid_a)\n",
    "\n",
    "# a_grid = 1.8/y_s            # savings grid\n",
    "# a_grid.sort()\n",
    "\n",
    "# # mean(range) log(1+b/y) from data: .25 (.05, .6)  \n",
    "# b_y = np.linspace(-4.6, -0.6, N_grid_b-1)\n",
    "\n",
    "# b_grid = np.exp(b_y)*1.8    # debt grid\n",
    "# b_grid.sort()\n",
    "\n",
    "# b_grid = np.insert(b_grid, 0, 0)\n",
    "\n",
    "# a_grid = np.linspace(.1, 10, N_grid_a)\n",
    "# b_grid = np.linspace(0, 2, N_grid_b)\n",
    "\n",
    "# a_grid = np.linspace(.1, 10, N_grid_a)\n",
    "# b_grid = np.linspace(0, 10, N_grid_b)\n",
    "\n",
    "a_grid = np.linspace(.1, 4, N_grid_a)\n",
    "b_grid = np.linspace(0, 3.9, N_grid_b)\n",
    "\n",
    "# # print(s_grid)\n",
    "# # print(b_grid)\n",
    "\n",
    "# cartesian product of a_grid and b_grid\n",
    "ab_mat = np.array([[a,b] for a in a_grid for b in b_grid])    # 2500 * 2 (a, b)\n",
    "\n",
    "# consumption and debt matrices for current period\n",
    "a0 = np.repeat(np.repeat(a_grid,N_grid_b),N_grid_tot).reshape(N_grid_tot,N_grid_tot)\n",
    "b0 = np.repeat(np.tile(b_grid,N_grid_a),N_grid_tot).reshape(N_grid_tot,N_grid_tot)\n",
    "\n",
    "# consumption and debt matrices for next period\n",
    "a1 = np.tile(np.repeat(a_grid,N_grid_b),N_grid_tot).reshape(N_grid_tot,N_grid_tot)\n",
    "b1 = np.tile(np.tile(b_grid,N_grid_a),N_grid_tot).reshape(N_grid_tot,N_grid_tot)"
   ]
  },
  {
   "cell_type": "code",
   "execution_count": 28,
   "metadata": {
    "executionInfo": {
     "elapsed": 1920,
     "status": "ok",
     "timestamp": 1614915797563,
     "user": {
      "displayName": "Tianyu Han",
      "photoUrl": "https://lh3.googleusercontent.com/a-/AOh14Gi-6Ly8O-nbbTozD9aepxxL1mC9fSU3wq6-nse01A=s64",
      "userId": "18020794539901871466"
     },
     "user_tz": 480
    },
    "id": "3QUbakAIa4go"
   },
   "outputs": [],
   "source": [
    "# initialize of consumption and policy matrices\n",
    "\n",
    "# ct_mat       = np.zeros((N_grid_tot, N_grid_tot))    # 2500*2500\n",
    "# ct_mat2     = np.zeros((N_grid_tot, N_grid_tot))    # 2500*2500\n",
    "# ct_mat0     = np.zeros((N_grid_tot, N_grid_tot))    # 2500*2500\n",
    "\n",
    "# ct_mat2h     = np.zeros((N_grid_tot, N_grid_tot))    # 2500*2500\n",
    "# ct_mat2l     = np.zeros((N_grid_tot, N_grid_tot))    # 2500*2500\n",
    "\n",
    "# ct_mat0h     = np.zeros((N_grid_tot, N_grid_tot))    # 2500*2500\n",
    "# ct_mat0l     = np.zeros((N_grid_tot, N_grid_tot))    # 2500*2500\n",
    "\n",
    "ct_mat          = np.zeros((T, N_grid_tot, N_grid_tot))    # 2500*2500\n",
    "ct_mat_high     = np.zeros((T, N_grid_tot, N_grid_tot))    # 2500*2500\n",
    "ct_mat_low      = np.zeros((T, N_grid_tot, N_grid_tot))    # 2500*2500\n",
    "\n",
    "\n",
    "# V_tuple      = np.zeros((N_grid_tot, N_grid_tot))    # 2500*2500\n",
    "pol_func_a   = np.zeros((N_grid_tot, T))*np.nan      # 2500*24\n",
    "pol_func_b   = np.zeros((N_grid_tot, T))*np.nan      # 2500*24\n",
    "pol_func_c   = np.zeros((N_grid_tot, T))*np.nan      # 2500*24\n",
    "\n",
    "# pol_func_ah   = np.zeros((N_grid_tot, T+1))*np.nan      # 2500*24\n",
    "# pol_func_bh   = np.zeros((N_grid_tot, T+1))*np.nan      # 2500*24\n",
    "# pol_func_ch   = np.zeros((N_grid_tot, T+1))*np.nan      # 2500*24\n",
    "\n",
    "# pol_func_al   = np.zeros((N_grid_tot, T+1))*np.nan      # 2500*24\n",
    "# pol_func_bl   = np.zeros((N_grid_tot, T+1))*np.nan      # 2500*24\n",
    "# pol_func_cl   = np.zeros((N_grid_tot, T+1))*np.nan      # 2500*24\n",
    "\n",
    "# final optimal policy vectors\n",
    "pol_a = np.zeros(N_grid_tot)\n",
    "pol_b = np.zeros(N_grid_tot)\n",
    "pol_c = np.zeros(N_grid_tot)\n",
    "\n",
    "# pol_ah = np.zeros(N_grid_tot)\n",
    "# pol_bh = np.zeros(N_grid_tot)\n",
    "# pol_ch = np.zeros(N_grid_tot)\n",
    "\n",
    "# pol_al = np.zeros(N_grid_tot)\n",
    "# pol_bl = np.zeros(N_grid_tot)\n",
    "# pol_cl = np.zeros(N_grid_tot)\n",
    "\n",
    "# VT           = np.tile(a_grid.T,(N_grid_tot, 1))     # 2500*2500\n",
    "# Vt           = np.tile(a_grid,(1, N_grid_tot))       # 2500*2500\n",
    "#Vt           = np.tile(a_grid.T,(N_grid_tot,1)\n",
    "\n",
    "v_vals  = np.zeros((T, N_grid_tot,N_grid_tot))\n",
    "vls     = np.zeros((T, N_grid_tot,N_grid_tot))\n",
    "vhs     = np.zeros((T, N_grid_tot,N_grid_tot))"
   ]
  },
  {
   "cell_type": "code",
   "execution_count": 29,
   "metadata": {},
   "outputs": [],
   "source": [
    "# # backout consumption according to intertemporal budget constraint\n",
    "# # c = ( a- a'-y-b' + Rb b)/Rs\n",
    "# # c = a+y-(a'-b'+Rb b)/Rs\n",
    "\n",
    "# for j in range(N_grid_tot): # compute c for every control (a,b) for every (a',b') state\n",
    "    \n",
    "#     # last period where b'==0: c = a-(a' + Rb b)/Rs\n",
    "#     ct_mat[:,j] = ab_mat[:,0] - (ab_mat[j,0] + Rb * ab_mat[:,1])/Rs\n",
    "\n",
    "#     # middle: c = a-(a'-y'-b' + Rb b)/Rs\n",
    "#     ct_mat2h[:,j] = ab_mat[:,0] + yh/10 - (ab_mat[j,0] - ab_mat[j,1] + Rb * ab_mat[:,1])/Rs\n",
    "#     ct_mat2l[:,j] = ab_mat[:,0] + yl/10 - (ab_mat[j,0] - ab_mat[j,1] + Rb * ab_mat[:,1])/Rs\n",
    "    \n",
    "#     # first period where b==0: c = a-(a'-y'-b')/Rs\n",
    "# #     ct_mat0h[:,j] = ab_mat[:,0] + yh/10 - (ab_mat[j,0] - ab_mat[j,1] )/Rs\n",
    "# #     ct_mat0l[:,j] = ab_mat[:,0] + yl/10 - (ab_mat[j,0] - ab_mat[j,1] )/Rs\n",
    "#     ct_mat0h[:,j] = ab_mat[:,0] + yh/10 - (ab_mat[j,0] - ab_mat[j,1] + Rb * ab_mat[:,1])/Rs\n",
    "#     ct_mat0l[:,j] = ab_mat[:,0] + yl/10 - (ab_mat[j,0] - ab_mat[j,1] + Rb * ab_mat[:,1])/Rs\n",
    "    \n",
    "    \n",
    "# # trim consumptions < 0\n",
    "# ct_mat[ct_mat<0] = np.nan\n",
    "# ct_mat2h[ct_mat2h<0] = np.nan\n",
    "# ct_mat2l[ct_mat2l<0] = np.nan\n",
    "# ct_mat0h[ct_mat0h<0] = np.nan\n",
    "# ct_mat0l[ct_mat0l<0] = np.nan\n",
    "\n",
    "# # ct_mat[ct_mat<0] = 0\n",
    "# # ct_mat2h[ct_mat2h<0] = 0\n",
    "# # ct_mat2l[ct_mat2l<0] = 0\n",
    "# # ct_mat0h[ct_mat0h<0] = 0\n",
    "# # ct_mat0l[ct_mat0l<0] = 0"
   ]
  },
  {
   "cell_type": "code",
   "execution_count": 30,
   "metadata": {
    "executionInfo": {
     "elapsed": 1965,
     "status": "ok",
     "timestamp": 1614915798149,
     "user": {
      "displayName": "Tianyu Han",
      "photoUrl": "https://lh3.googleusercontent.com/a-/AOh14Gi-6Ly8O-nbbTozD9aepxxL1mC9fSU3wq6-nse01A=s64",
      "userId": "18020794539901871466"
     },
     "user_tz": 480
    },
    "id": "D-cr5kjFa4go"
   },
   "outputs": [],
   "source": [
    "# backout consumption according to intertemporal budget constraint\n",
    "# c = ( a- a'-y-b' + Rb b)/Rs\n",
    "# c = a+y-(a'-b'+Rb b)/Rs\n",
    "\n",
    "# last period where b'==0: c = a + y - (a' + Rb b)/Rs\n",
    "ct_mat[-1,:,:]      = a0 + y_pro[-1]/10  - (a1 + Rb * b0)/Rs\n",
    "ct_mat_high[-1,:,:] = a0 + y_high[-1]/10 - (a1 + Rb * b0)/Rs\n",
    "ct_mat_low[-1,:,:]  = a0 + y_low[-1]/10  - (a1 + Rb * b0)/Rs\n",
    "\n",
    "# first period where b==0: c = a + y -(a'-b')/Rs\n",
    "ct_mat[0,:,:]      = a0 + y_pro[0]/10  - (a1 - b1 )/Rs\n",
    "ct_mat_high[0,:,:] = a0 + y_high[0]/10 - (a1 - b1 )/Rs\n",
    "ct_mat_low[0,:,:]  = a0 + y_low[0]/10  - (a1 - b1 )/Rs\n",
    "\n",
    "# middle: c = a + y -(a' -b' + Rb b)/Rs\n",
    "for t in range(1,T-1):\n",
    "    ct_mat[t,:,:]      = a0 + y_pro[t]/10  - (a1 - b1 + Rb * b0)/Rs\n",
    "    ct_mat_high[t,:,:] = a0 + y_high[t]/10 - (a1 - b1 + Rb * b0)/Rs\n",
    "    ct_mat_low[t,:,:]  = a0 + y_low[t]/10  - (a1 - b1 + Rb * b0)/Rs\n",
    "\n",
    "# trim consumptions < 0\n",
    "ct_mat[ct_mat<0] = np.nan\n",
    "ct_mat_high[ct_mat_high<0] = np.nan\n",
    "ct_mat_low[ct_mat_low<0] = np.nan"
   ]
  },
  {
   "cell_type": "code",
   "execution_count": 31,
   "metadata": {
    "executionInfo": {
     "elapsed": 258,
     "status": "ok",
     "timestamp": 1614916040355,
     "user": {
      "displayName": "Tianyu Han",
      "photoUrl": "https://lh3.googleusercontent.com/a-/AOh14Gi-6Ly8O-nbbTozD9aepxxL1mC9fSU3wq6-nse01A=s64",
      "userId": "18020794539901871466"
     },
     "user_tz": 480
    },
    "id": "10bOUWyja4go"
   },
   "outputs": [],
   "source": [
    "def u(x) :\n",
    "    return (x**(1-γ)-10)/(1-γ)"
   ]
  },
  {
   "cell_type": "code",
   "execution_count": 32,
   "metadata": {
    "executionInfo": {
     "elapsed": 1173,
     "status": "ok",
     "timestamp": 1614916338575,
     "user": {
      "displayName": "Tianyu Han",
      "photoUrl": "https://lh3.googleusercontent.com/a-/AOh14Gi-6Ly8O-nbbTozD9aepxxL1mC9fSU3wq6-nse01A=s64",
      "userId": "18020794539901871466"
     },
     "user_tz": 480
    },
    "id": "07Xw4MXua4go"
   },
   "outputs": [],
   "source": [
    "# Intialize v values after retirement\n",
    "\n",
    "# v_valsh     =u(a1)    \n",
    "# v_vals1h    =u(a1)\n",
    "# v_valsl     =u(a1)    \n",
    "# v_vals1l    =u(a1)\n",
    "\n",
    "v_vals_old =20*u(a1/20)\n",
    "\n",
    "# vT = u(a1)\n",
    "# vls[-1,:,:] = u(a1)\n",
    "# vhs[-1,:,:] = u(a1)"
   ]
  },
  {
   "cell_type": "markdown",
   "metadata": {
    "id": "YA3Kbg37a4gp"
   },
   "source": [
    "$V = \\max u(c)+ u(\\alpha a)+\\beta \\delta E[V'] = \\max \\frac{c^{1-\\gamma}}{1-\\gamma}+\\frac{ (\\alpha a)^{1-\\gamma}}{1-\\gamma}+\\beta \\delta E[V']$"
   ]
  },
  {
   "cell_type": "code",
   "execution_count": 33,
   "metadata": {},
   "outputs": [],
   "source": [
    "def _nanargmax(arr, axis=None):\n",
    "    try:\n",
    "        return np.nanargmax(arr, axis)\n",
    "    except ValueError:\n",
    "        return np.nan"
   ]
  },
  {
   "cell_type": "code",
   "execution_count": 34,
   "metadata": {
    "colab": {
     "base_uri": "https://localhost:8080/"
    },
    "executionInfo": {
     "elapsed": 2283,
     "status": "ok",
     "timestamp": 1614917592407,
     "user": {
      "displayName": "Tianyu Han",
      "photoUrl": "https://lh3.googleusercontent.com/a-/AOh14Gi-6Ly8O-nbbTozD9aepxxL1mC9fSU3wq6-nse01A=s64",
      "userId": "18020794539901871466"
     },
     "user_tz": 480
    },
    "id": "dKqUUUR8a4gp",
    "outputId": "5142cc79-378e-4f08-c135-63fd23342b2d",
    "scrolled": true
   },
   "outputs": [],
   "source": [
    "# # Period T: just before retirement\n",
    "# for j in range(N_grid_tot):\n",
    "# #     v_vals[:,j] = u(ct_mat[:,j]) + u(α * ab_mat[:,0]) + β*δ*v_vals_old[:,j]\n",
    "# #     v_vals1[:,j] = u(ct_mat[:,j]) + u(α * ab_mat[:,0]) + δ*v_vals_old[:,j]\n",
    "    \n",
    "# #     # last period where b'==0: c = a-(a' + Rb b)/Rs\n",
    "# #     ct_mat[:,j] = ab_mat[:,0] - (ab_mat[j,0] + Rb * ab_mat[:,1])/Rs\n",
    "# #     ct_mat[ct_mat<0] = np.nan\n",
    "    \n",
    "#     v_valsh[:,j] = u(ct_mat[:,j]) + u(α * ab_mat[:,0]) + β*δ*v_vals_old[:,j]\n",
    "#     v_vals1h[:,j] = u(ct_mat[:,j]) + u(α * ab_mat[:,0]) + δ*v_vals_old[:,j]\n",
    "    \n",
    "#     v_valsl[:,j] = u(ct_mat[:,j]) + u(α * ab_mat[:,0]) + β*δ*v_vals_old[:,j]\n",
    "#     v_vals1l[:,j] = u(ct_mat[:,j]) + u(α * ab_mat[:,0]) + δ*v_vals_old[:,j]\n",
    "\n",
    "# # for each row (a,b), record the max v and the optimal policy (a', b') across columns\n",
    "# # vmax = np.nanmax(v_vals,1)        # find the (a', b') that maximizes Vt\n",
    "\n",
    "# vmaxh = np.nanmax(v_valsh,1)\n",
    "# vmaxl = np.nanmax(v_valsl,1)\n",
    "\n",
    "# # record the index of optimal (a', b')\n",
    "# # argvmax = np.argmax(v_vals,1)  \n",
    "\n",
    "# # argvmax = np.zeros(N_grid_tot) * np.nan\n",
    "\n",
    "# argvmaxh = np.zeros(N_grid_tot) * np.nan\n",
    "# argvmaxl = np.zeros(N_grid_tot) * np.nan\n",
    "\n",
    "# for idx in range(N_grid_tot): \n",
    "# #     argvmax[idx] = _nanargmax(v_vals[idx,:])\n",
    "#     argvmaxh[idx] = _nanargmax(v_valsh[idx,:])\n",
    "#     argvmaxl[idx] = _nanargmax(v_valsl[idx,:])\n",
    "    \n",
    "#     # record the optimal policies\n",
    "# #     if ~np.isnan(argvmax[idx]):\n",
    "# #         pol_func_a[idx,T] = ab_mat[int(argvmax[idx]),0]\n",
    "# #         pol_func_b[idx,T] = ab_mat[int(argvmax[idx]),1]\n",
    "# #         pol_func_c[idx,T] = ct_mat[idx, int(argvmax[idx])]\n",
    "#     if ~np.isnan(argvmaxh[idx]):\n",
    "#         pol_func_ah[idx,T]= ab_mat[int(argvmaxh[idx]),0]\n",
    "#         pol_func_bh[idx,T] = ab_mat[int(argvmaxh[idx]),1]\n",
    "#         pol_func_ch[idx,T] = ct_mat[idx, int(argvmaxh[idx])]\n",
    "        \n",
    "#     if ~np.isnan(argvmaxl[idx]):    \n",
    "#         pol_func_al[idx,T] = ab_mat[int(argvmaxl[idx]),0]\n",
    "#         pol_func_bl[idx,T] = ab_mat[int(argvmaxl[idx]),1]\n",
    "#         pol_func_cl[idx,T] = ct_mat[idx, int(argvmaxl[idx])]\n",
    "\n",
    "# # vmax1 = np.nanmax(v_vals1,1)      # record max Vt w/o β for next period computation\n",
    "\n",
    "# vmax1h = np.nanmax(v_vals1h,1)\n",
    "# vmax1l = np.nanmax(v_vals1l,1)\n",
    "\n",
    "# vh[T] = v_valsh.copy()\n",
    "# vl[T] = v_valsl.copy()\n",
    "# # # \n",
    "# # for i in range(N_grid_tot):\n",
    "# #     pol_func_a[i,T] = ab_mat[argvmax[i],0]\n",
    "# #     pol_func_b[i,T] = ab_mat[argvmax[i],1]\n",
    "# #     pol_func_c[i,T-1] = ct_mat[i,argvmax[i]]"
   ]
  },
  {
   "cell_type": "code",
   "execution_count": 35,
   "metadata": {},
   "outputs": [
    {
     "name": "stderr",
     "output_type": "stream",
     "text": [
      "C:\\ProgramData\\Anaconda3\\lib\\site-packages\\ipykernel_launcher.py:12: RuntimeWarning: All-NaN slice encountered\n",
      "  if sys.path[0] == '':\n",
      "C:\\ProgramData\\Anaconda3\\lib\\site-packages\\ipykernel_launcher.py:13: RuntimeWarning: All-NaN slice encountered\n",
      "  del sys.path[0]\n",
      "C:\\ProgramData\\Anaconda3\\lib\\site-packages\\ipykernel_launcher.py:14: RuntimeWarning: All-NaN slice encountered\n",
      "  \n"
     ]
    }
   ],
   "source": [
    "# Period T: just before retirement\n",
    "\n",
    "v_val  = u(ct_mat[-1,:,:]) + u(α * a0) + β*δ*v_vals_old\n",
    "\n",
    "v_val_high  = u(ct_mat_high[-1,:,:]) + u(α * a0) + δ*v_vals_old\n",
    "v_val_low   = u(ct_mat_low[-1,:,:]) + u(α * a0) + δ*v_vals_old\n",
    "\n",
    "v_vals[-1,:,:]  = v_val\n",
    "vhs[-1,:,:]     = v_val_high\n",
    "vls[-1,:,:]     = v_val_low\n",
    "\n",
    "vmax   = np.nanmax(v_val,1)\n",
    "vmax1h = np.nanmax(v_val_high,1)\n",
    "vmax1l = np.nanmax(v_val_low,1)\n",
    "\n",
    "argvmax = np.zeros(N_grid_tot) * np.nan\n",
    "\n",
    "for idx in range(N_grid_tot): \n",
    "    argvmax[idx] = _nanargmax(v_val[idx,:])\n",
    "    \n",
    "    # record the optimal policies\n",
    "    if ~np.isnan(argvmax[idx]):\n",
    "        pol_func_a[idx,-1] = a1[idx, int(argvmax[idx])]\n",
    "        pol_func_b[idx,-1] = b1[idx, int(argvmax[idx])]\n",
    "        pol_func_c[idx,-1] = ct_mat[-1, idx, int(argvmax[idx])]"
   ]
  },
  {
   "cell_type": "code",
   "execution_count": 36,
   "metadata": {},
   "outputs": [],
   "source": [
    "# # Period 1-(T-1): middle periods\n",
    "\n",
    "# for t in range(T-2, 0, -1):\n",
    "#     pol_func_ah_old = pol_func_ah.copy() \n",
    "#     pol_func_bh_old = pol_func_bh.copy() \n",
    "#     pol_func_ch_old = pol_func_ch.copy()\n",
    "#     pol_func_al_old = pol_func_al.copy() \n",
    "#     pol_func_bl_old = pol_func_bl.copy() \n",
    "#     pol_func_cl_old = pol_func_cl.copy()\n",
    "    \n",
    "# #     v_vals_old = np.tile(vmax1, (N_grid_tot,1))   # prepare V' for every row (a,b)\n",
    "#     v_vals_old = np.tile( p*vmax1h + (1-p)*vmax1l, (N_grid_tot,1) )\n",
    "    \n",
    "#     for j in range(N_grid_tot):    # given every row (a,b), record V for every column j (a',b')\n",
    "# #         v_vals[:,j] = p*u(ct_mat2h[:,j]) + (1-p)*u(ct_mat2l[:,j]) + u(α * ab_mat[:,0]) + β*δ*v_vals_old[:,j]\n",
    "# #         v_vals1[:,j] = p*u(ct_mat2h[:,j]) + (1-p)*u(ct_mat2l[:,j]) + u(α * ab_mat[:,0]) + δ*v_vals_old[:,j]\n",
    "        \n",
    "# #         # middle: c = a-(a'-y'-b' + Rb b)/Rs\n",
    "# #         ct_mat2h[:,j] = ab_mat[:,0] + yh/10 - (ab_mat[j,0] - ab_mat[j,1] + Rb * ab_mat[:,1])/Rs\n",
    "# #         ct_mat2l[:,j] = ab_mat[:,0] + yl/10 - (ab_mat[j,0] - ab_mat[j,1] + Rb * ab_mat[:,1])/Rs\n",
    "# #         ct_mat2h[ct_mat2h<0] = np.nan\n",
    "# #         ct_mat2l[ct_mat2l<0] = np.nan\n",
    "        \n",
    "#         v_valsh[:,j]  = u(ct_mat2h[:,j]) + u(α * ab_mat[:,0]) + β*δ*v_vals_old[:,j]\n",
    "#         v_vals1h[:,j] = u(ct_mat2h[:,j]) + u(α * ab_mat[:,0]) + δ*v_vals_old[:,j]\n",
    "#         v_valsl[:,j]  = u(ct_mat2l[:,j]) + u(α * ab_mat[:,0]) + β*δ*v_vals_old[:,j]\n",
    "#         v_vals1l[:,j] = u(ct_mat2l[:,j]) + u(α * ab_mat[:,0]) + δ*v_vals_old[:,j]\n",
    "        \n",
    "# #     vmax = np.nanmax(v_vals,1)         # find the (a', b') that maximizes Vt\n",
    "    \n",
    "#     vmaxh = np.nanmax(v_valsh,1)\n",
    "#     vmaxl = np.nanmax(v_valsl,1)\n",
    "    \n",
    "#     # record the index of optimal (a', b')\n",
    "    \n",
    "# #     argvmax = np.argmax(v_vals,1) \n",
    "    \n",
    "# #     argvmax = np.zeros(N_grid_tot) * np.nan\n",
    "\n",
    "#     argvmaxh = np.zeros(N_grid_tot) * np.nan\n",
    "#     argvmaxl = np.zeros(N_grid_tot) * np.nan\n",
    "    \n",
    "#     for idx in range(N_grid_tot):\n",
    "# #         argvmax[idx] = _nanargmax(v_vals[idx,:])\n",
    "\n",
    "#         argvmaxh[idx] = _nanargmax(v_valsh[idx,:])\n",
    "#         argvmaxl[idx] = _nanargmax(v_valsl[idx,:])\n",
    "    \n",
    "#         # record the optimal policies\n",
    "# #         if ~np.isnan(argvmax[idx]):             \n",
    "# #             pol_func_a[idx,t-1] = ab_mat[int(argvmax[idx]),0]\n",
    "# #             pol_func_b[idx,t-1] = ab_mat[int(argvmax[idx]),1]\n",
    "# #             pol_func_c[idx,t-1] = p*ct_mat2h[idx, int(argvmax[idx])]+(1-p)*ct_mat2l[idx, int(argvmax[idx])]\n",
    "        \n",
    "#         if ~np.isnan(argvmaxh[idx]):             \n",
    "#             pol_func_ah[idx,t] = ab_mat[int(argvmaxh[idx]),0]\n",
    "#             pol_func_ah[idx,(t+1):] = pol_func_ah_old[int(argvmaxh[idx]),(t+1):]\n",
    "            \n",
    "#             pol_func_bh[idx,t] = ab_mat[int(argvmaxh[idx]),1]\n",
    "#             pol_func_bh[idx,(t+1):] = pol_func_bh_old[int(argvmaxh[idx]),(t+1):]\n",
    "            \n",
    "#             pol_func_ch[idx,t] = ct_mat2h[idx, int(argvmaxh[idx])]\n",
    "#             pol_func_ch[idx,(t+1):] = pol_func_ch_old[int(argvmaxh[idx]),(t+1):]\n",
    "            \n",
    "#         if ~np.isnan(argvmaxl[idx]):             \n",
    "#             pol_func_al[idx,t] = ab_mat[int(argvmaxl[idx]),0]\n",
    "#             pol_func_al[idx,(t+1):] = pol_func_al_old[int(argvmaxh[idx]),(t+1):]\n",
    "            \n",
    "#             pol_func_bl[idx,t] = ab_mat[int(argvmaxl[idx]),1]\n",
    "#             pol_func_bl[idx,(t+1):] = pol_func_bl_old[int(argvmaxh[idx]),(t+1):]\n",
    "            \n",
    "#             pol_func_cl[idx,t] = ct_mat2l[idx, int(argvmaxl[idx])]\n",
    "#             pol_func_cl[idx,(t+1):] = pol_func_cl_old[int(argvmaxh[idx]),(t+1):]\n",
    "      \n",
    "\n",
    "#     #vmax1 = np.nanmax(v_vals1,1)       # record max Vt w/o β for next period computation\n",
    "    \n",
    "#     vmax1h = np.nanmax(v_vals1h,1)\n",
    "#     vmax1l = np.nanmax(v_vals1l,1)\n",
    "    \n",
    "#     vh[t] = v_valsh.copy()\n",
    "#     vl[t] = v_valsl.copy()\n",
    "# #     for i in range(N_grid_tot):\n",
    "# #         pol_func_a[i,t] = ab_mat[argvmax[i],0]\n",
    "# #         pol_func_b[i,t] = ab_mat[argvmax[i],1]\n",
    "# #         pol_func_c[i,t-1] = p*ct_mat2h[i,argvmax[i]] + (1-p)*ct_mat2l[i,argvmax[i]]"
   ]
  },
  {
   "cell_type": "code",
   "execution_count": 37,
   "metadata": {
    "colab": {
     "base_uri": "https://localhost:8080/"
    },
    "executionInfo": {
     "elapsed": 51411,
     "status": "ok",
     "timestamp": 1614915653509,
     "user": {
      "displayName": "Tianyu Han",
      "photoUrl": "https://lh3.googleusercontent.com/a-/AOh14Gi-6Ly8O-nbbTozD9aepxxL1mC9fSU3wq6-nse01A=s64",
      "userId": "18020794539901871466"
     },
     "user_tz": 480
    },
    "id": "J91k7qjya4gq",
    "outputId": "6713670e-dc3d-40aa-d6f5-21e1119bc5d0"
   },
   "outputs": [
    {
     "name": "stderr",
     "output_type": "stream",
     "text": [
      "C:\\ProgramData\\Anaconda3\\lib\\site-packages\\ipykernel_launcher.py:18: RuntimeWarning: All-NaN slice encountered\n",
      "C:\\ProgramData\\Anaconda3\\lib\\site-packages\\ipykernel_launcher.py:19: RuntimeWarning: All-NaN slice encountered\n",
      "C:\\ProgramData\\Anaconda3\\lib\\site-packages\\ipykernel_launcher.py:20: RuntimeWarning: All-NaN slice encountered\n"
     ]
    }
   ],
   "source": [
    "# Period 0-(T-1): the rest of life\n",
    "\n",
    "for t in range(T-2, -1, -1):\n",
    "    pol_func_a_old = pol_func_a.copy() \n",
    "    pol_func_b_old = pol_func_b.copy() \n",
    "    pol_func_c_old = pol_func_c.copy()\n",
    "    \n",
    "    v_vals_old = np.tile( p*vmax1h + (1-p)*vmax1l, (N_grid_tot,1) )\n",
    "    \n",
    "    v_val       = u(ct_mat[t,:,:]) + u(α * a0) + β*δ*v_vals_old\n",
    "    v_val_high  = u(ct_mat_high[t,:,:]) + u(α * a0) + δ*v_vals_old\n",
    "    v_val_low   = u(ct_mat_low[t,:,:]) + u(α * a0) + δ*v_vals_old\n",
    "    \n",
    "    v_vals[t,:,:]  = v_val\n",
    "    vhs[t,:,:]     = v_val_high\n",
    "    vls[t,:,:]     = v_val_low\n",
    "        \n",
    "    vmax   = np.nanmax(v_val,1)\n",
    "    vmax1h = np.nanmax(v_val_high,1)\n",
    "    vmax1l = np.nanmax(v_val_low,1)\n",
    "\n",
    "    # record the index of optimal (a', b')\n",
    "    \n",
    "    argvmax = np.zeros(N_grid_tot) * np.nan\n",
    "    \n",
    "    for idx in range(N_grid_tot): \n",
    "        argvmax[idx] = _nanargmax(v_val[idx,:])\n",
    "\n",
    "        # record the optimal policies\n",
    "        if ~np.isnan(argvmax[idx]):\n",
    "            pol_func_a[idx,t] = a1[idx, int(argvmax[idx])]\n",
    "            pol_func_a[idx,(t+1):] = pol_func_a_old[int(argvmax[idx]),(t+1):]\n",
    "            \n",
    "            pol_func_b[idx,t] = b1[idx, int(argvmax[idx])]\n",
    "            pol_func_b[idx,(t+1):] = pol_func_b_old[int(argvmax[idx]),(t+1):]\n",
    "            \n",
    "            pol_func_c[idx,t] = ct_mat[t, idx, int(argvmax[idx])]\n",
    "            pol_func_c[idx,(t+1):] = pol_func_c_old[int(argvmax[idx]),(t+1):]\n",
    "        \n"
   ]
  },
  {
   "cell_type": "code",
   "execution_count": 38,
   "metadata": {},
   "outputs": [],
   "source": [
    "pol_idx = [N_grid_b*i for i in range(N_grid_b)]"
   ]
  },
  {
   "cell_type": "code",
   "execution_count": 39,
   "metadata": {
    "scrolled": false
   },
   "outputs": [
    {
     "data": {
      "text/plain": [
       "array([[0.71578947, 0.71578947, 0.92105263, 0.92105263, 0.92105263,\n",
       "        0.92105263, 0.92105263, 0.92105263, 0.92105263, 0.92105263,\n",
       "        1.12631579, 1.12631579, 1.12631579, 1.12631579, 1.12631579,\n",
       "        1.12631579, 1.33157895, 1.33157895, 1.33157895, 1.33157895,\n",
       "        1.33157895, 1.33157895, 1.33157895, 1.33157895, 1.33157895,\n",
       "        1.33157895, 1.33157895, 1.33157895, 1.53684211, 1.53684211,\n",
       "        1.53684211, 1.53684211, 1.74210526, 1.74210526, 1.74210526,\n",
       "        1.74210526, 1.74210526, 1.94736842, 1.94736842, 1.94736842,\n",
       "        0.71578947, 0.92105263, 1.33157895, 1.74210526, 0.92105263],\n",
       "       [0.92105263, 1.12631579, 1.12631579, 1.12631579, 1.12631579,\n",
       "        1.12631579, 1.12631579, 1.12631579, 1.12631579, 1.33157895,\n",
       "        1.33157895, 1.33157895, 1.33157895, 1.53684211, 1.53684211,\n",
       "        1.53684211, 1.53684211, 1.53684211, 1.53684211, 1.53684211,\n",
       "        1.53684211, 1.53684211, 1.53684211, 1.53684211, 1.53684211,\n",
       "        1.53684211, 1.74210526, 1.74210526, 1.74210526, 1.74210526,\n",
       "        1.94736842, 1.94736842, 1.94736842, 1.94736842, 1.94736842,\n",
       "        2.15263158, 2.15263158, 2.15263158, 2.15263158, 0.92105263,\n",
       "        1.12631579, 1.53684211, 1.94736842, 2.15263158, 1.33157895],\n",
       "       [1.33157895, 1.33157895, 1.33157895, 1.33157895, 1.33157895,\n",
       "        1.53684211, 1.53684211, 1.53684211, 1.53684211, 1.53684211,\n",
       "        1.53684211, 1.53684211, 1.74210526, 1.74210526, 1.74210526,\n",
       "        1.74210526, 1.74210526, 1.74210526, 1.74210526, 1.74210526,\n",
       "        1.74210526, 1.74210526, 1.94736842, 1.94736842, 1.94736842,\n",
       "        1.94736842, 1.94736842, 1.94736842, 1.94736842, 2.15263158,\n",
       "        2.15263158, 2.15263158, 2.15263158, 2.15263158, 2.15263158,\n",
       "        2.35789474, 2.35789474, 1.12631579, 1.33157895, 1.74210526,\n",
       "        1.94736842, 2.35789474, 2.56315789, 2.97368421, 1.94736842],\n",
       "       [1.53684211, 1.53684211, 1.53684211, 1.74210526, 1.74210526,\n",
       "        1.74210526, 1.74210526, 1.74210526, 1.74210526, 1.74210526,\n",
       "        1.74210526, 1.94736842, 1.94736842, 1.94736842, 1.94736842,\n",
       "        1.94736842, 2.15263158, 2.15263158, 2.15263158, 2.15263158,\n",
       "        2.15263158, 2.15263158, 2.15263158, 2.15263158, 2.15263158,\n",
       "        2.15263158, 2.15263158, 2.15263158, 2.35789474, 2.35789474,\n",
       "        2.35789474, 2.35789474, 2.35789474, 2.56315789, 2.56315789,\n",
       "        2.56315789, 2.56315789, 1.33157895, 1.74210526, 1.94736842,\n",
       "        2.15263158, 2.56315789, 2.97368421, 3.17894737, 2.15263158],\n",
       "       [1.74210526, 1.74210526, 1.94736842, 1.94736842, 1.94736842,\n",
       "        1.94736842, 1.94736842, 1.94736842, 1.94736842, 1.94736842,\n",
       "        2.15263158, 2.15263158, 2.15263158, 0.92105263, 2.56315789,\n",
       "        2.56315789, 1.33157895, 1.53684211, 1.74210526, 2.15263158,\n",
       "        2.35789474, 2.56315789, 4.        , 4.        , 4.        ,\n",
       "        4.        , 4.        , 4.        , 4.        , 4.        ,\n",
       "        4.        , 4.        , 4.        , 4.        , 4.        ,\n",
       "        4.        , 3.38421053, 3.58947368, 4.        , 4.        ,\n",
       "        4.        , 4.        , 4.        , 4.        , 4.        ],\n",
       "       [2.15263158, 2.15263158, 2.15263158, 2.15263158, 2.15263158,\n",
       "        2.15263158, 2.15263158, 2.15263158, 2.15263158, 2.35789474,\n",
       "        2.35789474, 2.35789474, 1.12631579, 1.53684211, 1.74210526,\n",
       "        1.94736842, 2.35789474, 2.56315789, 4.        , 4.        ,\n",
       "        4.        , 4.        , 4.        , 4.        , 4.        ,\n",
       "        4.        , 4.        , 4.        , 4.        , 4.        ,\n",
       "        4.        , 4.        , 4.        , 4.        , 4.        ,\n",
       "        4.        , 3.38421053, 3.58947368, 4.        , 4.        ,\n",
       "        4.        , 4.        , 4.        , 4.        , 4.        ],\n",
       "       [2.35789474, 2.35789474, 2.35789474, 2.35789474, 2.35789474,\n",
       "        2.56315789, 2.56315789, 2.56315789, 2.56315789, 2.56315789,\n",
       "        2.56315789, 2.56315789, 1.33157895, 1.74210526, 1.94736842,\n",
       "        2.15263158, 2.56315789, 4.        , 4.        , 4.        ,\n",
       "        4.        , 4.        , 4.        , 4.        , 4.        ,\n",
       "        4.        , 4.        , 4.        , 4.        , 4.        ,\n",
       "        4.        , 4.        , 4.        , 4.        , 4.        ,\n",
       "        4.        , 3.38421053, 3.58947368, 4.        , 4.        ,\n",
       "        4.        , 4.        , 4.        , 4.        , 4.        ],\n",
       "       [2.56315789, 2.56315789, 2.56315789, 2.76842105, 2.76842105,\n",
       "        1.53684211, 1.74210526, 1.94736842, 2.15263158, 3.79473684,\n",
       "        3.79473684, 4.        , 4.        , 2.76842105, 4.        ,\n",
       "        4.        , 4.        , 4.        , 4.        , 4.        ,\n",
       "        4.        , 4.        , 4.        , 4.        , 4.        ,\n",
       "        4.        , 4.        , 4.        , 4.        , 4.        ,\n",
       "        4.        , 4.        , 4.        , 4.        , 4.        ,\n",
       "        4.        , 4.        , 3.58947368, 4.        , 4.        ,\n",
       "        4.        , 4.        , 4.        , 4.        , 4.        ],\n",
       "       [2.76842105, 2.76842105, 2.97368421, 1.74210526, 1.94736842,\n",
       "        2.15263158, 2.56315789, 4.        , 4.        , 4.        ,\n",
       "        4.        , 4.        , 4.        , 4.        , 4.        ,\n",
       "        4.        , 4.        , 4.        , 4.        , 4.        ,\n",
       "        4.        , 4.        , 4.        , 4.        , 4.        ,\n",
       "        4.        , 4.        , 4.        , 4.        , 4.        ,\n",
       "        4.        , 4.        , 4.        , 4.        , 4.        ,\n",
       "        4.        , 4.        , 3.58947368, 4.        , 4.        ,\n",
       "        4.        , 4.        , 4.        , 4.        , 4.        ],\n",
       "       [2.15263158, 2.35789474, 4.        , 4.        , 4.        ,\n",
       "        4.        , 4.        , 4.        , 4.        , 4.        ,\n",
       "        4.        , 4.        , 4.        , 4.        , 4.        ,\n",
       "        4.        , 4.        , 4.        , 4.        , 4.        ,\n",
       "        4.        , 4.        , 4.        , 4.        , 4.        ,\n",
       "        4.        , 4.        , 4.        , 4.        , 4.        ,\n",
       "        4.        , 4.        , 4.        , 4.        , 4.        ,\n",
       "        4.        , 4.        , 3.58947368, 4.        , 4.        ,\n",
       "        4.        , 4.        , 4.        , 4.        , 4.        ],\n",
       "       [2.35789474, 4.        , 4.        , 4.        , 4.        ,\n",
       "        4.        , 4.        , 4.        , 4.        , 4.        ,\n",
       "        4.        , 4.        , 4.        , 4.        , 4.        ,\n",
       "        4.        , 4.        , 4.        , 4.        , 4.        ,\n",
       "        4.        , 4.        , 4.        , 4.        , 4.        ,\n",
       "        4.        , 4.        , 4.        , 4.        , 4.        ,\n",
       "        4.        , 4.        , 4.        , 4.        , 4.        ,\n",
       "        4.        , 4.        , 3.58947368, 4.        , 4.        ,\n",
       "        4.        , 4.        , 4.        , 4.        , 4.        ],\n",
       "       [3.79473684, 4.        , 4.        , 4.        , 4.        ,\n",
       "        4.        , 4.        , 4.        , 4.        , 4.        ,\n",
       "        4.        , 4.        , 4.        , 4.        , 4.        ,\n",
       "        4.        , 4.        , 4.        , 4.        , 4.        ,\n",
       "        4.        , 4.        , 4.        , 4.        , 4.        ,\n",
       "        4.        , 4.        , 4.        , 4.        , 4.        ,\n",
       "        4.        , 4.        , 4.        , 4.        , 4.        ,\n",
       "        4.        , 4.        , 3.58947368, 4.        , 4.        ,\n",
       "        4.        , 4.        , 4.        , 4.        , 4.        ],\n",
       "       [4.        , 4.        , 4.        , 4.        , 4.        ,\n",
       "        4.        , 4.        , 4.        , 4.        , 4.        ,\n",
       "        4.        , 4.        , 4.        , 4.        , 4.        ,\n",
       "        4.        , 4.        , 4.        , 4.        , 4.        ,\n",
       "        4.        , 4.        , 4.        , 4.        , 4.        ,\n",
       "        4.        , 4.        , 4.        , 4.        , 4.        ,\n",
       "        4.        , 4.        , 4.        , 4.        , 4.        ,\n",
       "        4.        , 4.        , 4.        , 4.        , 4.        ,\n",
       "        4.        , 4.        , 4.        , 4.        , 4.        ],\n",
       "       [4.        , 4.        , 4.        , 4.        , 4.        ,\n",
       "        4.        , 4.        , 4.        , 4.        , 4.        ,\n",
       "        4.        , 4.        , 4.        , 4.        , 4.        ,\n",
       "        4.        , 4.        , 4.        , 4.        , 4.        ,\n",
       "        4.        , 4.        , 4.        , 4.        , 4.        ,\n",
       "        4.        , 4.        , 4.        , 4.        , 4.        ,\n",
       "        4.        , 4.        , 4.        , 4.        , 4.        ,\n",
       "        4.        , 4.        , 4.        , 4.        , 4.        ,\n",
       "        4.        , 4.        , 4.        , 4.        , 4.        ],\n",
       "       [4.        , 4.        , 4.        , 4.        , 4.        ,\n",
       "        4.        , 4.        , 4.        , 4.        , 4.        ,\n",
       "        4.        , 4.        , 4.        , 4.        , 4.        ,\n",
       "        4.        , 4.        , 4.        , 4.        , 4.        ,\n",
       "        4.        , 4.        , 4.        , 4.        , 4.        ,\n",
       "        4.        , 4.        , 4.        , 4.        , 4.        ,\n",
       "        4.        , 4.        , 4.        , 4.        , 4.        ,\n",
       "        4.        , 4.        , 4.        , 4.        , 4.        ,\n",
       "        4.        , 4.        , 4.        , 4.        , 4.        ],\n",
       "       [4.        , 4.        , 4.        , 4.        , 4.        ,\n",
       "        4.        , 4.        , 4.        , 4.        , 4.        ,\n",
       "        4.        , 4.        , 4.        , 4.        , 4.        ,\n",
       "        4.        , 4.        , 4.        , 4.        , 4.        ,\n",
       "        4.        , 4.        , 4.        , 4.        , 4.        ,\n",
       "        4.        , 4.        , 4.        , 4.        , 4.        ,\n",
       "        4.        , 4.        , 4.        , 4.        , 4.        ,\n",
       "        4.        , 4.        , 4.        , 4.        , 4.        ,\n",
       "        4.        , 4.        , 4.        , 4.        , 4.        ],\n",
       "       [4.        , 4.        , 4.        , 4.        , 4.        ,\n",
       "        4.        , 4.        , 4.        , 4.        , 4.        ,\n",
       "        4.        , 4.        , 4.        , 4.        , 4.        ,\n",
       "        4.        , 4.        , 4.        , 4.        , 4.        ,\n",
       "        4.        , 4.        , 4.        , 4.        , 4.        ,\n",
       "        4.        , 4.        , 4.        , 4.        , 4.        ,\n",
       "        4.        , 4.        , 4.        , 4.        , 4.        ,\n",
       "        4.        , 4.        , 4.        , 4.        , 4.        ,\n",
       "        4.        , 4.        , 4.        , 4.        , 4.        ],\n",
       "       [4.        , 4.        , 4.        , 4.        , 4.        ,\n",
       "        4.        , 4.        , 4.        , 4.        , 4.        ,\n",
       "        4.        , 4.        , 4.        , 4.        , 4.        ,\n",
       "        4.        , 4.        , 4.        , 4.        , 4.        ,\n",
       "        4.        , 4.        , 4.        , 4.        , 4.        ,\n",
       "        4.        , 4.        , 4.        , 4.        , 4.        ,\n",
       "        4.        , 4.        , 4.        , 4.        , 4.        ,\n",
       "        4.        , 4.        , 4.        , 4.        , 4.        ,\n",
       "        4.        , 4.        , 4.        , 4.        , 4.        ],\n",
       "       [4.        , 4.        , 4.        , 4.        , 4.        ,\n",
       "        4.        , 4.        , 4.        , 4.        , 4.        ,\n",
       "        4.        , 4.        , 4.        , 4.        , 4.        ,\n",
       "        4.        , 4.        , 4.        , 4.        , 4.        ,\n",
       "        4.        , 4.        , 4.        , 4.        , 4.        ,\n",
       "        4.        , 4.        , 4.        , 4.        , 4.        ,\n",
       "        4.        , 4.        , 4.        , 4.        , 4.        ,\n",
       "        4.        , 4.        , 4.        , 4.        , 4.        ,\n",
       "        4.        , 4.        , 4.        , 4.        , 4.        ],\n",
       "       [4.        , 4.        , 4.        , 4.        , 4.        ,\n",
       "        4.        , 4.        , 4.        , 4.        , 4.        ,\n",
       "        4.        , 4.        , 4.        , 4.        , 4.        ,\n",
       "        4.        , 4.        , 4.        , 4.        , 4.        ,\n",
       "        4.        , 4.        , 4.        , 4.        , 4.        ,\n",
       "        4.        , 4.        , 4.        , 4.        , 4.        ,\n",
       "        4.        , 4.        , 4.        , 4.        , 4.        ,\n",
       "        4.        , 4.        , 4.        , 4.        , 4.        ,\n",
       "        4.        , 4.        , 4.        , 4.        , 4.        ]])"
      ]
     },
     "execution_count": 39,
     "metadata": {},
     "output_type": "execute_result"
    }
   ],
   "source": [
    "pol_a = pol_func_a[pol_idx]\n",
    "pol_a"
   ]
  },
  {
   "cell_type": "code",
   "execution_count": 40,
   "metadata": {
    "scrolled": false
   },
   "outputs": [
    {
     "data": {
      "text/plain": [
       "array([[0.61578947, 0.61578947, 0.82105263, 0.82105263, 0.82105263,\n",
       "        0.82105263, 0.82105263, 0.82105263, 0.82105263, 0.82105263,\n",
       "        1.02631579, 1.02631579, 1.02631579, 1.02631579, 1.02631579,\n",
       "        1.02631579, 1.23157895, 1.23157895, 1.23157895, 1.23157895,\n",
       "        1.23157895, 1.23157895, 1.23157895, 1.23157895, 1.23157895,\n",
       "        1.23157895, 1.23157895, 1.23157895, 1.43684211, 1.43684211,\n",
       "        1.43684211, 1.43684211, 1.64210526, 1.64210526, 1.64210526,\n",
       "        1.64210526, 1.64210526, 1.84736842, 1.84736842, 1.84736842,\n",
       "        0.61578947, 0.61578947, 0.82105263, 1.02631579, 0.        ],\n",
       "       [0.61578947, 0.82105263, 0.82105263, 0.82105263, 0.82105263,\n",
       "        0.82105263, 0.82105263, 0.82105263, 0.82105263, 1.02631579,\n",
       "        1.02631579, 1.02631579, 1.02631579, 1.23157895, 1.23157895,\n",
       "        1.23157895, 1.23157895, 1.23157895, 1.23157895, 1.23157895,\n",
       "        1.23157895, 1.23157895, 1.23157895, 1.23157895, 1.23157895,\n",
       "        1.23157895, 1.43684211, 1.43684211, 1.43684211, 1.43684211,\n",
       "        1.64210526, 1.64210526, 1.64210526, 1.64210526, 1.64210526,\n",
       "        1.84736842, 1.84736842, 1.84736842, 1.84736842, 0.61578947,\n",
       "        0.61578947, 0.82105263, 1.02631579, 1.02631579, 0.        ],\n",
       "       [0.82105263, 0.82105263, 0.82105263, 0.82105263, 0.82105263,\n",
       "        1.02631579, 1.02631579, 1.02631579, 1.02631579, 1.02631579,\n",
       "        1.02631579, 1.02631579, 1.23157895, 1.23157895, 1.23157895,\n",
       "        1.23157895, 1.23157895, 1.23157895, 1.23157895, 1.23157895,\n",
       "        1.23157895, 1.23157895, 1.43684211, 1.43684211, 1.43684211,\n",
       "        1.43684211, 1.43684211, 1.43684211, 1.43684211, 1.64210526,\n",
       "        1.64210526, 1.64210526, 1.64210526, 1.64210526, 1.64210526,\n",
       "        1.84736842, 1.84736842, 0.61578947, 0.61578947, 0.82105263,\n",
       "        0.82105263, 1.02631579, 1.02631579, 1.23157895, 0.        ],\n",
       "       [0.82105263, 0.82105263, 0.82105263, 1.02631579, 1.02631579,\n",
       "        1.02631579, 1.02631579, 1.02631579, 1.02631579, 1.02631579,\n",
       "        1.02631579, 1.23157895, 1.23157895, 1.23157895, 1.23157895,\n",
       "        1.23157895, 1.43684211, 1.43684211, 1.43684211, 1.43684211,\n",
       "        1.43684211, 1.43684211, 1.43684211, 1.43684211, 1.43684211,\n",
       "        1.43684211, 1.43684211, 1.43684211, 1.64210526, 1.64210526,\n",
       "        1.64210526, 1.64210526, 1.64210526, 1.84736842, 1.84736842,\n",
       "        1.84736842, 1.84736842, 0.61578947, 0.82105263, 0.82105263,\n",
       "        0.82105263, 1.02631579, 1.23157895, 1.23157895, 0.        ],\n",
       "       [0.82105263, 0.82105263, 1.02631579, 1.02631579, 1.02631579,\n",
       "        1.02631579, 1.02631579, 1.02631579, 1.02631579, 1.02631579,\n",
       "        1.23157895, 1.23157895, 1.23157895, 0.        , 1.43684211,\n",
       "        1.43684211, 0.20526316, 0.20526316, 0.20526316, 0.41052632,\n",
       "        0.41052632, 0.41052632, 1.64210526, 1.64210526, 1.64210526,\n",
       "        1.64210526, 1.64210526, 1.64210526, 1.64210526, 1.64210526,\n",
       "        1.64210526, 1.64210526, 1.64210526, 1.64210526, 1.64210526,\n",
       "        1.64210526, 1.02631579, 1.02631579, 1.23157895, 1.02631579,\n",
       "        0.82105263, 0.61578947, 0.41052632, 0.20526316, 0.        ],\n",
       "       [1.02631579, 1.02631579, 1.02631579, 1.02631579, 1.02631579,\n",
       "        1.02631579, 1.02631579, 1.02631579, 1.02631579, 1.23157895,\n",
       "        1.23157895, 1.23157895, 0.        , 0.20526316, 0.20526316,\n",
       "        0.20526316, 0.41052632, 0.41052632, 1.64210526, 1.64210526,\n",
       "        1.64210526, 1.64210526, 1.64210526, 1.64210526, 1.64210526,\n",
       "        1.64210526, 1.64210526, 1.64210526, 1.64210526, 1.64210526,\n",
       "        1.64210526, 1.64210526, 1.64210526, 1.64210526, 1.64210526,\n",
       "        1.64210526, 1.02631579, 1.02631579, 1.23157895, 1.02631579,\n",
       "        0.82105263, 0.61578947, 0.41052632, 0.20526316, 0.        ],\n",
       "       [1.02631579, 1.02631579, 1.02631579, 1.02631579, 1.02631579,\n",
       "        1.23157895, 1.23157895, 1.23157895, 1.23157895, 1.23157895,\n",
       "        1.23157895, 1.23157895, 0.        , 0.20526316, 0.20526316,\n",
       "        0.20526316, 0.41052632, 1.64210526, 1.64210526, 1.64210526,\n",
       "        1.64210526, 1.64210526, 1.64210526, 1.64210526, 1.64210526,\n",
       "        1.64210526, 1.64210526, 1.64210526, 1.64210526, 1.64210526,\n",
       "        1.64210526, 1.64210526, 1.64210526, 1.64210526, 1.64210526,\n",
       "        1.64210526, 1.02631579, 1.02631579, 1.23157895, 1.02631579,\n",
       "        0.82105263, 0.61578947, 0.41052632, 0.20526316, 0.        ],\n",
       "       [1.02631579, 1.02631579, 1.02631579, 1.23157895, 1.23157895,\n",
       "        0.        , 0.        , 0.        , 0.        , 1.43684211,\n",
       "        1.43684211, 1.64210526, 1.64210526, 0.41052632, 1.43684211,\n",
       "        1.43684211, 1.43684211, 1.43684211, 1.43684211, 1.43684211,\n",
       "        1.43684211, 1.43684211, 1.43684211, 1.43684211, 1.43684211,\n",
       "        1.43684211, 1.43684211, 1.43684211, 1.43684211, 1.43684211,\n",
       "        1.43684211, 1.43684211, 1.43684211, 1.43684211, 1.43684211,\n",
       "        1.43684211, 1.43684211, 1.02631579, 1.23157895, 1.02631579,\n",
       "        0.82105263, 0.61578947, 0.41052632, 0.20526316, 0.        ],\n",
       "       [1.02631579, 1.02631579, 1.23157895, 0.        , 0.        ,\n",
       "        0.        , 0.20526316, 1.43684211, 1.43684211, 1.43684211,\n",
       "        1.43684211, 1.43684211, 1.43684211, 1.43684211, 1.43684211,\n",
       "        1.43684211, 1.43684211, 1.43684211, 1.43684211, 1.43684211,\n",
       "        1.43684211, 1.43684211, 1.43684211, 1.43684211, 1.43684211,\n",
       "        1.43684211, 1.43684211, 1.43684211, 1.43684211, 1.43684211,\n",
       "        1.43684211, 1.43684211, 1.43684211, 1.43684211, 1.43684211,\n",
       "        1.43684211, 1.43684211, 1.02631579, 1.23157895, 1.02631579,\n",
       "        0.82105263, 0.61578947, 0.41052632, 0.20526316, 0.        ],\n",
       "       [0.        , 0.        , 1.43684211, 1.43684211, 1.43684211,\n",
       "        1.43684211, 1.43684211, 1.43684211, 1.43684211, 1.43684211,\n",
       "        1.43684211, 1.43684211, 1.43684211, 1.43684211, 1.43684211,\n",
       "        1.43684211, 1.43684211, 1.43684211, 1.43684211, 1.43684211,\n",
       "        1.43684211, 1.43684211, 1.43684211, 1.43684211, 1.43684211,\n",
       "        1.43684211, 1.43684211, 1.43684211, 1.43684211, 1.43684211,\n",
       "        1.43684211, 1.43684211, 1.43684211, 1.43684211, 1.43684211,\n",
       "        1.43684211, 1.43684211, 1.02631579, 1.23157895, 1.02631579,\n",
       "        0.82105263, 0.61578947, 0.41052632, 0.20526316, 0.        ],\n",
       "       [0.        , 1.43684211, 1.43684211, 1.43684211, 1.43684211,\n",
       "        1.43684211, 1.43684211, 1.43684211, 1.43684211, 1.43684211,\n",
       "        1.43684211, 1.43684211, 1.43684211, 1.43684211, 1.43684211,\n",
       "        1.43684211, 1.43684211, 1.43684211, 1.43684211, 1.43684211,\n",
       "        1.43684211, 1.43684211, 1.43684211, 1.43684211, 1.43684211,\n",
       "        1.43684211, 1.43684211, 1.43684211, 1.43684211, 1.43684211,\n",
       "        1.43684211, 1.43684211, 1.43684211, 1.43684211, 1.43684211,\n",
       "        1.43684211, 1.43684211, 1.02631579, 1.23157895, 1.02631579,\n",
       "        0.82105263, 0.61578947, 0.41052632, 0.20526316, 0.        ],\n",
       "       [1.23157895, 1.43684211, 1.43684211, 1.43684211, 1.43684211,\n",
       "        1.43684211, 1.43684211, 1.43684211, 1.43684211, 1.43684211,\n",
       "        1.43684211, 1.43684211, 1.43684211, 1.43684211, 1.43684211,\n",
       "        1.43684211, 1.43684211, 1.43684211, 1.43684211, 1.43684211,\n",
       "        1.43684211, 1.43684211, 1.43684211, 1.43684211, 1.43684211,\n",
       "        1.43684211, 1.43684211, 1.43684211, 1.43684211, 1.43684211,\n",
       "        1.43684211, 1.43684211, 1.43684211, 1.43684211, 1.43684211,\n",
       "        1.43684211, 1.43684211, 1.02631579, 1.23157895, 1.02631579,\n",
       "        0.82105263, 0.61578947, 0.41052632, 0.20526316, 0.        ],\n",
       "       [1.23157895, 1.23157895, 1.23157895, 1.23157895, 1.23157895,\n",
       "        1.23157895, 1.23157895, 1.23157895, 1.23157895, 1.23157895,\n",
       "        1.23157895, 1.23157895, 1.23157895, 1.23157895, 1.23157895,\n",
       "        1.23157895, 1.23157895, 1.23157895, 1.23157895, 1.23157895,\n",
       "        1.23157895, 1.23157895, 1.23157895, 1.23157895, 1.23157895,\n",
       "        1.23157895, 1.23157895, 1.23157895, 1.23157895, 1.23157895,\n",
       "        1.23157895, 1.23157895, 1.23157895, 1.23157895, 1.23157895,\n",
       "        1.23157895, 1.23157895, 1.23157895, 1.23157895, 1.02631579,\n",
       "        0.82105263, 0.61578947, 0.41052632, 0.20526316, 0.        ],\n",
       "       [1.02631579, 1.02631579, 1.02631579, 1.02631579, 1.02631579,\n",
       "        1.02631579, 1.02631579, 1.02631579, 1.02631579, 1.02631579,\n",
       "        1.02631579, 1.02631579, 1.02631579, 1.02631579, 1.02631579,\n",
       "        1.02631579, 1.02631579, 1.02631579, 1.02631579, 1.02631579,\n",
       "        1.02631579, 1.02631579, 1.02631579, 1.02631579, 1.02631579,\n",
       "        1.02631579, 1.02631579, 1.02631579, 1.02631579, 1.02631579,\n",
       "        1.02631579, 1.02631579, 1.02631579, 1.02631579, 1.02631579,\n",
       "        1.02631579, 1.02631579, 1.02631579, 1.02631579, 1.02631579,\n",
       "        0.82105263, 0.61578947, 0.41052632, 0.20526316, 0.        ],\n",
       "       [0.82105263, 0.82105263, 0.82105263, 0.82105263, 0.82105263,\n",
       "        0.82105263, 0.82105263, 0.82105263, 0.82105263, 0.82105263,\n",
       "        0.82105263, 0.82105263, 0.82105263, 0.82105263, 0.82105263,\n",
       "        0.82105263, 0.82105263, 0.82105263, 0.82105263, 0.82105263,\n",
       "        0.82105263, 0.82105263, 0.82105263, 0.82105263, 0.82105263,\n",
       "        0.82105263, 0.82105263, 0.82105263, 0.82105263, 0.82105263,\n",
       "        0.82105263, 0.82105263, 0.82105263, 0.82105263, 0.82105263,\n",
       "        0.82105263, 0.82105263, 0.82105263, 0.82105263, 0.82105263,\n",
       "        0.82105263, 0.61578947, 0.41052632, 0.20526316, 0.        ],\n",
       "       [0.61578947, 0.61578947, 0.61578947, 0.61578947, 0.61578947,\n",
       "        0.61578947, 0.61578947, 0.61578947, 0.61578947, 0.61578947,\n",
       "        0.61578947, 0.61578947, 0.61578947, 0.61578947, 0.61578947,\n",
       "        0.61578947, 0.61578947, 0.61578947, 0.61578947, 0.61578947,\n",
       "        0.61578947, 0.61578947, 0.61578947, 0.61578947, 0.61578947,\n",
       "        0.61578947, 0.61578947, 0.61578947, 0.61578947, 0.61578947,\n",
       "        0.61578947, 0.61578947, 0.61578947, 0.61578947, 0.61578947,\n",
       "        0.61578947, 0.61578947, 0.61578947, 0.61578947, 0.61578947,\n",
       "        0.61578947, 0.61578947, 0.41052632, 0.20526316, 0.        ],\n",
       "       [0.41052632, 0.41052632, 0.41052632, 0.41052632, 0.41052632,\n",
       "        0.41052632, 0.41052632, 0.41052632, 0.41052632, 0.41052632,\n",
       "        0.41052632, 0.41052632, 0.41052632, 0.41052632, 0.41052632,\n",
       "        0.41052632, 0.41052632, 0.41052632, 0.41052632, 0.41052632,\n",
       "        0.41052632, 0.41052632, 0.41052632, 0.41052632, 0.41052632,\n",
       "        0.41052632, 0.41052632, 0.41052632, 0.41052632, 0.41052632,\n",
       "        0.41052632, 0.41052632, 0.41052632, 0.41052632, 0.41052632,\n",
       "        0.41052632, 0.41052632, 0.41052632, 0.41052632, 0.41052632,\n",
       "        0.41052632, 0.41052632, 0.41052632, 0.20526316, 0.        ],\n",
       "       [0.20526316, 0.20526316, 0.20526316, 0.20526316, 0.20526316,\n",
       "        0.20526316, 0.20526316, 0.20526316, 0.20526316, 0.20526316,\n",
       "        0.20526316, 0.20526316, 0.20526316, 0.20526316, 0.20526316,\n",
       "        0.20526316, 0.20526316, 0.20526316, 0.20526316, 0.20526316,\n",
       "        0.20526316, 0.20526316, 0.20526316, 0.20526316, 0.20526316,\n",
       "        0.20526316, 0.20526316, 0.20526316, 0.20526316, 0.20526316,\n",
       "        0.20526316, 0.20526316, 0.20526316, 0.20526316, 0.20526316,\n",
       "        0.20526316, 0.20526316, 0.20526316, 0.20526316, 0.20526316,\n",
       "        0.20526316, 0.20526316, 0.20526316, 0.20526316, 0.        ],\n",
       "       [0.20526316, 0.20526316, 0.20526316, 0.20526316, 0.20526316,\n",
       "        0.20526316, 0.20526316, 0.20526316, 0.20526316, 0.20526316,\n",
       "        0.20526316, 0.20526316, 0.20526316, 0.20526316, 0.20526316,\n",
       "        0.20526316, 0.20526316, 0.20526316, 0.20526316, 0.20526316,\n",
       "        0.20526316, 0.20526316, 0.20526316, 0.20526316, 0.20526316,\n",
       "        0.20526316, 0.20526316, 0.20526316, 0.20526316, 0.20526316,\n",
       "        0.20526316, 0.20526316, 0.20526316, 0.20526316, 0.20526316,\n",
       "        0.20526316, 0.20526316, 0.20526316, 0.20526316, 0.20526316,\n",
       "        0.20526316, 0.20526316, 0.20526316, 0.20526316, 0.        ],\n",
       "       [0.        , 0.        , 0.        , 0.        , 0.        ,\n",
       "        0.        , 0.        , 0.        , 0.        , 0.        ,\n",
       "        0.        , 0.        , 0.        , 0.        , 0.        ,\n",
       "        0.        , 0.        , 0.        , 0.        , 0.        ,\n",
       "        0.        , 0.        , 0.        , 0.        , 0.        ,\n",
       "        0.        , 0.        , 0.        , 0.        , 0.        ,\n",
       "        0.        , 0.        , 0.        , 0.        , 0.        ,\n",
       "        0.        , 0.        , 0.        , 0.        , 0.        ,\n",
       "        0.        , 0.        , 0.        , 0.        , 0.        ]])"
      ]
     },
     "execution_count": 40,
     "metadata": {},
     "output_type": "execute_result"
    }
   ],
   "source": [
    "pol_b = pol_func_b[pol_idx]\n",
    "pol_b"
   ]
  },
  {
   "cell_type": "code",
   "execution_count": 41,
   "metadata": {
    "scrolled": false
   },
   "outputs": [
    {
     "data": {
      "text/plain": [
       "array([[0.10671642, 0.03092319, 0.03491261, 0.01796743, 0.02516653,\n",
       "        0.02460277, 0.03200093, 0.0316422 , 0.0312727 , 0.03089212,\n",
       "        0.03847896, 0.02235881, 0.0304077 , 0.03869805, 0.04723711,\n",
       "        0.0480535 , 0.04889438, 0.03380473, 0.03493618, 0.03610158,\n",
       "        0.03730194, 0.03853831, 0.03981178, 0.04112344, 0.04247446,\n",
       "        0.04386601, 0.0452993 , 0.05475444, 0.05651439, 0.04237137,\n",
       "        0.05245671, 0.05486576, 0.05734709, 0.04394709, 0.0468189 ,\n",
       "        0.04977685, 0.06080239, 0.06417985, 0.05170288, 0.0555254 ,\n",
       "        0.05946259, 0.01564868, 0.04159083, 0.04396304, 0.04671086],\n",
       "       [0.12050275, 0.04470952, 0.02476434, 0.03175376, 0.03895286,\n",
       "        0.0383891 , 0.04578726, 0.04542853, 0.04505903, 0.04467845,\n",
       "        0.02833069, 0.03614514, 0.04419403, 0.05248438, 0.03708884,\n",
       "        0.03790523, 0.03874611, 0.04759106, 0.04872252, 0.04988791,\n",
       "        0.05108827, 0.05232465, 0.05359811, 0.05490978, 0.05626079,\n",
       "        0.05765234, 0.05908563, 0.04460617, 0.04636611, 0.0561577 ,\n",
       "        0.06624304, 0.04471749, 0.04719882, 0.05773343, 0.06060523,\n",
       "        0.06356318, 0.05065412, 0.05403158, 0.06548921, 0.06931173,\n",
       "        0.02537971, 0.04322135, 0.04522889, 0.0476011 , 0.07428353],\n",
       "       [0.13428908, 0.03456124, 0.03855067, 0.04554009, 0.0527392 ,\n",
       "        0.05217543, 0.03563899, 0.03528026, 0.03491076, 0.03453018,\n",
       "        0.04211702, 0.04993148, 0.05798036, 0.04233611, 0.05087517,\n",
       "        0.05169156, 0.05253244, 0.06137739, 0.06250885, 0.06367425,\n",
       "        0.06487461, 0.06611098, 0.06738444, 0.0447615 , 0.04611252,\n",
       "        0.04750407, 0.04893736, 0.0583925 , 0.06015245, 0.06994404,\n",
       "        0.05609477, 0.05850382, 0.06098515, 0.07151976, 0.07439156,\n",
       "        0.07734952, 0.06444045, 0.06781791, 0.03140634, 0.04901518,\n",
       "        0.0428041 , 0.06064574, 0.06265328, 0.08896009, 0.09170792],\n",
       "       [0.14807541, 0.04834758, 0.052337  , 0.05932642, 0.04259092,\n",
       "        0.04202716, 0.04942532, 0.04906659, 0.04869709, 0.04831651,\n",
       "        0.05590336, 0.06371781, 0.04783209, 0.05612244, 0.0646615 ,\n",
       "        0.06547789, 0.06631877, 0.05122912, 0.05236058, 0.05352597,\n",
       "        0.05472633, 0.05596271, 0.05723617, 0.05854784, 0.05989885,\n",
       "        0.0612904 , 0.06272369, 0.07217883, 0.07393878, 0.05979576,\n",
       "        0.0698811 , 0.07229015, 0.07477148, 0.08530609, 0.06424329,\n",
       "        0.06720124, 0.07822678, 0.08160425, 0.04519267, 0.03886691,\n",
       "        0.05659043, 0.07443207, 0.07643961, 0.07881182, 0.10549425],\n",
       "       [0.16186174, 0.06213391, 0.06612333, 0.04917815, 0.05637726,\n",
       "        0.05581349, 0.06321165, 0.06285292, 0.06248342, 0.06210284,\n",
       "        0.06968969, 0.05356953, 0.06161842, 0.06990877, 0.03057863,\n",
       "        0.06911595, 0.06995683, 0.03093258, 0.04585036, 0.06080209,\n",
       "        0.05185418, 0.06687689, 0.08193668, 0.14490388, 0.1462549 ,\n",
       "        0.14764645, 0.14907974, 0.15853488, 0.16029483, 0.17008642,\n",
       "        0.18017175, 0.18258081, 0.18506213, 0.19559674, 0.19846854,\n",
       "        0.2014265 , 0.21245204, 0.09615648, 0.12140045, 0.11507469,\n",
       "        0.15673281, 0.19850905, 0.2483858 , 0.29862722, 0.34924425],\n",
       "       [0.17564808, 0.05198564, 0.05597506, 0.06296448, 0.07016359,\n",
       "        0.06959982, 0.07699799, 0.07663925, 0.07626975, 0.07588917,\n",
       "        0.05954141, 0.06735587, 0.07540475, 0.0358259 , 0.03421669,\n",
       "        0.04881941, 0.06344662, 0.0621433 , 0.07706109, 0.13988202,\n",
       "        0.14108238, 0.14231875, 0.14359222, 0.14490388, 0.1462549 ,\n",
       "        0.14764645, 0.14907974, 0.15853488, 0.16029483, 0.17008642,\n",
       "        0.18017175, 0.18258081, 0.18506213, 0.19559674, 0.19846854,\n",
       "        0.2014265 , 0.21245204, 0.09615648, 0.12140045, 0.11507469,\n",
       "        0.15673281, 0.19850905, 0.2483858 , 0.29862722, 0.34924425],\n",
       "       [0.18943441, 0.06577197, 0.06976139, 0.07675081, 0.08394992,\n",
       "        0.08338615, 0.06684971, 0.06649098, 0.06612148, 0.0657409 ,\n",
       "        0.07332775, 0.0811422 , 0.08919108, 0.04961223, 0.04800302,\n",
       "        0.06260574, 0.07723295, 0.07592963, 0.13871662, 0.13988202,\n",
       "        0.14108238, 0.14231875, 0.14359222, 0.14490388, 0.1462549 ,\n",
       "        0.14764645, 0.14907974, 0.15853488, 0.16029483, 0.17008642,\n",
       "        0.18017175, 0.18258081, 0.18506213, 0.19559674, 0.19846854,\n",
       "        0.2014265 , 0.21245204, 0.09615648, 0.12140045, 0.11507469,\n",
       "        0.15673281, 0.19850905, 0.2483858 , 0.29862722, 0.34924425],\n",
       "       [0.20322074, 0.0795583 , 0.08354772, 0.09053714, 0.07380165,\n",
       "        0.07323788, 0.03276684, 0.04619444, 0.05961127, 0.07301702,\n",
       "        0.1183248 , 0.12613925, 0.11025353, 0.11854389, 0.07921374,\n",
       "        0.16562027, 0.16646115, 0.1753061 , 0.17643756, 0.17760296,\n",
       "        0.17880332, 0.18003969, 0.18131315, 0.18262482, 0.18397584,\n",
       "        0.18536738, 0.18680068, 0.19625581, 0.19801576, 0.20780735,\n",
       "        0.21789269, 0.22030174, 0.22278307, 0.23331768, 0.23618948,\n",
       "        0.23914743, 0.25017297, 0.25355044, 0.12140045, 0.11507469,\n",
       "        0.15673281, 0.19850905, 0.2483858 , 0.29862722, 0.34924425],\n",
       "       [0.21700707, 0.09334463, 0.09733405, 0.08038887, 0.03971877,\n",
       "        0.05294134, 0.07412583, 0.06361883, 0.12490487, 0.12452429,\n",
       "        0.13211113, 0.13992558, 0.14797447, 0.15626482, 0.16480388,\n",
       "        0.16562027, 0.16646115, 0.1753061 , 0.17643756, 0.17760296,\n",
       "        0.17880332, 0.18003969, 0.18131315, 0.18262482, 0.18397584,\n",
       "        0.18536738, 0.18680068, 0.19625581, 0.19801576, 0.20780735,\n",
       "        0.21789269, 0.22030174, 0.22278307, 0.23331768, 0.23618948,\n",
       "        0.23914743, 0.25017297, 0.25355044, 0.12140045, 0.11507469,\n",
       "        0.15673281, 0.19850905, 0.2483858 , 0.29862722, 0.34924425],\n",
       "       [0.03931658, 0.04911348, 0.06688924, 0.1115996 , 0.1187987 ,\n",
       "        0.11823493, 0.1256331 , 0.12527436, 0.12490487, 0.12452429,\n",
       "        0.13211113, 0.13992558, 0.14797447, 0.15626482, 0.16480388,\n",
       "        0.16562027, 0.16646115, 0.1753061 , 0.17643756, 0.17760296,\n",
       "        0.17880332, 0.18003969, 0.18131315, 0.18262482, 0.18397584,\n",
       "        0.18536738, 0.18680068, 0.19625581, 0.19801576, 0.20780735,\n",
       "        0.21789269, 0.22030174, 0.22278307, 0.23331768, 0.23618948,\n",
       "        0.23914743, 0.25017297, 0.25355044, 0.12140045, 0.11507469,\n",
       "        0.15673281, 0.19850905, 0.2483858 , 0.29862722, 0.34924425],\n",
       "       [0.05310291, 0.06289982, 0.10461017, 0.1115996 , 0.1187987 ,\n",
       "        0.11823493, 0.1256331 , 0.12527436, 0.12490487, 0.12452429,\n",
       "        0.13211113, 0.13992558, 0.14797447, 0.15626482, 0.16480388,\n",
       "        0.16562027, 0.16646115, 0.1753061 , 0.17643756, 0.17760296,\n",
       "        0.17880332, 0.18003969, 0.18131315, 0.18262482, 0.18397584,\n",
       "        0.18536738, 0.18680068, 0.19625581, 0.19801576, 0.20780735,\n",
       "        0.21789269, 0.22030174, 0.22278307, 0.23331768, 0.23618948,\n",
       "        0.23914743, 0.25017297, 0.25355044, 0.12140045, 0.11507469,\n",
       "        0.15673281, 0.19850905, 0.2483858 , 0.29862722, 0.34924425],\n",
       "       [0.06688924, 0.12455535, 0.10461017, 0.1115996 , 0.1187987 ,\n",
       "        0.11823493, 0.1256331 , 0.12527436, 0.12490487, 0.12452429,\n",
       "        0.13211113, 0.13992558, 0.14797447, 0.15626482, 0.16480388,\n",
       "        0.16562027, 0.16646115, 0.1753061 , 0.17643756, 0.17760296,\n",
       "        0.17880332, 0.18003969, 0.18131315, 0.18262482, 0.18397584,\n",
       "        0.18536738, 0.18680068, 0.19625581, 0.19801576, 0.20780735,\n",
       "        0.21789269, 0.22030174, 0.22278307, 0.23331768, 0.23618948,\n",
       "        0.23914743, 0.25017297, 0.25355044, 0.12140045, 0.11507469,\n",
       "        0.15673281, 0.19850905, 0.2483858 , 0.29862722, 0.34924425],\n",
       "       [0.08067557, 0.13834168, 0.14233111, 0.14932053, 0.15651964,\n",
       "        0.15595587, 0.16335403, 0.1629953 , 0.1626258 , 0.16224522,\n",
       "        0.16983207, 0.17764652, 0.1856954 , 0.19398576, 0.20252482,\n",
       "        0.20334121, 0.20418209, 0.21302704, 0.21415849, 0.21532389,\n",
       "        0.21652425, 0.21776062, 0.21903409, 0.22034575, 0.22169677,\n",
       "        0.22308832, 0.22452161, 0.23397675, 0.2357367 , 0.24552829,\n",
       "        0.25561362, 0.25802268, 0.260504  , 0.27103861, 0.27391041,\n",
       "        0.27686837, 0.28789391, 0.29127137, 0.302729  , 0.11507469,\n",
       "        0.15673281, 0.19850905, 0.2483858 , 0.29862722, 0.34924425],\n",
       "       [0.0944619 , 0.17606262, 0.18005204, 0.18704147, 0.19424057,\n",
       "        0.1936768 , 0.20107497, 0.20071623, 0.20034674, 0.19996616,\n",
       "        0.207553  , 0.21536745, 0.22341634, 0.23170669, 0.24024575,\n",
       "        0.24106214, 0.24190302, 0.25074797, 0.25187943, 0.25304483,\n",
       "        0.25424519, 0.25548156, 0.25675502, 0.25806669, 0.25941771,\n",
       "        0.26080925, 0.26224255, 0.27169768, 0.27345763, 0.28324922,\n",
       "        0.29333456, 0.29574361, 0.29822494, 0.30875955, 0.31163135,\n",
       "        0.3145893 , 0.32561484, 0.32899231, 0.34044994, 0.34427245,\n",
       "        0.15673281, 0.19850905, 0.2483858 , 0.29862722, 0.34924425],\n",
       "       [0.10824823, 0.21378355, 0.21777298, 0.2247624 , 0.23196151,\n",
       "        0.23139774, 0.2387959 , 0.23843717, 0.23806767, 0.23768709,\n",
       "        0.24527394, 0.25308839, 0.26113727, 0.26942762, 0.27796669,\n",
       "        0.27878308, 0.27962396, 0.28846891, 0.28960036, 0.29076576,\n",
       "        0.29196612, 0.29320249, 0.29447596, 0.29578762, 0.29713864,\n",
       "        0.29853019, 0.29996348, 0.30941862, 0.31117856, 0.32097016,\n",
       "        0.33105549, 0.33346455, 0.33594587, 0.34648048, 0.34935228,\n",
       "        0.35231024, 0.36333578, 0.36671324, 0.37817087, 0.38199339,\n",
       "        0.38593057, 0.19850905, 0.2483858 , 0.29862722, 0.34924425],\n",
       "       [0.12203456, 0.25150449, 0.25549391, 0.26248333, 0.26968244,\n",
       "        0.26911867, 0.27651684, 0.2761581 , 0.27578861, 0.27540803,\n",
       "        0.28299487, 0.29080932, 0.29885821, 0.30714856, 0.31568762,\n",
       "        0.31650401, 0.31734489, 0.32618984, 0.3273213 , 0.3284867 ,\n",
       "        0.32968706, 0.33092343, 0.33219689, 0.33350856, 0.33485957,\n",
       "        0.33625112, 0.33768442, 0.34713955, 0.3488995 , 0.35869109,\n",
       "        0.36877643, 0.37118548, 0.37366681, 0.38420141, 0.38707322,\n",
       "        0.39003117, 0.40105671, 0.40443418, 0.41589181, 0.41971432,\n",
       "        0.42365151, 0.42770681, 0.2483858 , 0.29862722, 0.34924425],\n",
       "       [0.1358209 , 0.28922542, 0.29321485, 0.30020427, 0.30740338,\n",
       "        0.30683961, 0.31423777, 0.31387904, 0.31350954, 0.31312896,\n",
       "        0.32071581, 0.32853026, 0.33657914, 0.34486949, 0.35340856,\n",
       "        0.35422495, 0.35506583, 0.36391078, 0.36504223, 0.36620763,\n",
       "        0.36740799, 0.36864436, 0.36991783, 0.37122949, 0.37258051,\n",
       "        0.37397206, 0.37540535, 0.38486049, 0.38662043, 0.39641202,\n",
       "        0.40649736, 0.40890642, 0.41138774, 0.42192235, 0.42479415,\n",
       "        0.42775211, 0.43877765, 0.44215511, 0.45361274, 0.45743525,\n",
       "        0.46137244, 0.46542775, 0.47758356, 0.29862722, 0.34924425],\n",
       "       [0.14960723, 0.32694636, 0.33093578, 0.3379252 , 0.34512431,\n",
       "        0.34456054, 0.35195871, 0.35159997, 0.35123048, 0.35084989,\n",
       "        0.35843674, 0.36625119, 0.37430008, 0.38259043, 0.39112949,\n",
       "        0.39194588, 0.39278676, 0.40163171, 0.40276317, 0.40392857,\n",
       "        0.40512893, 0.4063653 , 0.40763876, 0.40895043, 0.41030144,\n",
       "        0.41169299, 0.41312628, 0.42258142, 0.42434137, 0.43413296,\n",
       "        0.4442183 , 0.44662735, 0.44910867, 0.45964328, 0.46251509,\n",
       "        0.46547304, 0.47649858, 0.47987604, 0.49133368, 0.49515619,\n",
       "        0.49909338, 0.50314868, 0.51530449, 0.52782498, 0.34924425],\n",
       "       [0.35487038, 0.32694636, 0.33093578, 0.3379252 , 0.34512431,\n",
       "        0.34456054, 0.35195871, 0.35159997, 0.35123048, 0.35084989,\n",
       "        0.35843674, 0.36625119, 0.37430008, 0.38259043, 0.39112949,\n",
       "        0.39194588, 0.39278676, 0.40163171, 0.40276317, 0.40392857,\n",
       "        0.40512893, 0.4063653 , 0.40763876, 0.40895043, 0.41030144,\n",
       "        0.41169299, 0.41312628, 0.42258142, 0.42434137, 0.43413296,\n",
       "        0.4442183 , 0.44662735, 0.44910867, 0.45964328, 0.46251509,\n",
       "        0.46547304, 0.47649858, 0.47987604, 0.49133368, 0.49515619,\n",
       "        0.49909338, 0.50314868, 0.51530449, 0.52782498, 0.34924425],\n",
       "       [0.36865672, 0.36466729, 0.36865672, 0.37564614, 0.38284524,\n",
       "        0.38228148, 0.38967964, 0.38932091, 0.38895141, 0.38857083,\n",
       "        0.39615768, 0.40397213, 0.41202101, 0.42031136, 0.42885043,\n",
       "        0.42966681, 0.43050769, 0.43935265, 0.4404841 , 0.4416495 ,\n",
       "        0.44284986, 0.44408623, 0.4453597 , 0.44667136, 0.44802238,\n",
       "        0.44941393, 0.45084722, 0.46030236, 0.4620623 , 0.47185389,\n",
       "        0.48193923, 0.48434829, 0.48682961, 0.49736422, 0.50023602,\n",
       "        0.50319398, 0.51421952, 0.51759698, 0.52905461, 0.53287712,\n",
       "        0.53681431, 0.54086962, 0.55302543, 0.56554591, 0.57844201]])"
      ]
     },
     "execution_count": 41,
     "metadata": {},
     "output_type": "execute_result"
    }
   ],
   "source": [
    "pol_c = pol_func_c[pol_idx]\n",
    "pol_c"
   ]
  },
  {
   "cell_type": "code",
   "execution_count": null,
   "metadata": {},
   "outputs": [],
   "source": []
  },
  {
   "cell_type": "code",
   "execution_count": null,
   "metadata": {},
   "outputs": [],
   "source": []
  },
  {
   "cell_type": "code",
   "execution_count": null,
   "metadata": {},
   "outputs": [],
   "source": []
  },
  {
   "cell_type": "code",
   "execution_count": null,
   "metadata": {},
   "outputs": [],
   "source": []
  },
  {
   "cell_type": "code",
   "execution_count": 262,
   "metadata": {},
   "outputs": [],
   "source": [
    "# vmaxh, vmaxl, vmax1h, vmax1l"
   ]
  },
  {
   "cell_type": "code",
   "execution_count": 167,
   "metadata": {},
   "outputs": [],
   "source": [
    "# pol_func_ah, pol_func_al"
   ]
  },
  {
   "cell_type": "code",
   "execution_count": 168,
   "metadata": {},
   "outputs": [],
   "source": [
    "# pol_func_bh, pol_func_bl"
   ]
  },
  {
   "cell_type": "code",
   "execution_count": 169,
   "metadata": {},
   "outputs": [],
   "source": [
    "# pol_func_ch, pol_func_cl"
   ]
  },
  {
   "cell_type": "code",
   "execution_count": 170,
   "metadata": {
    "colab": {
     "base_uri": "https://localhost:8080/"
    },
    "executionInfo": {
     "elapsed": 53084,
     "status": "ok",
     "timestamp": 1614915655945,
     "user": {
      "displayName": "Tianyu Han",
      "photoUrl": "https://lh3.googleusercontent.com/a-/AOh14Gi-6Ly8O-nbbTozD9aepxxL1mC9fSU3wq6-nse01A=s64",
      "userId": "18020794539901871466"
     },
     "user_tz": 480
    },
    "id": "wwq-zuv3a4gq",
    "outputId": "d4cd2135-5224-4e76-b29c-1b1974a44c1e"
   },
   "outputs": [
    {
     "ename": "NameError",
     "evalue": "name 'pol_func_ah' is not defined",
     "output_type": "error",
     "traceback": [
      "\u001b[1;31m---------------------------------------------------------------------------\u001b[0m",
      "\u001b[1;31mNameError\u001b[0m                                 Traceback (most recent call last)",
      "\u001b[1;32m<ipython-input-170-7db9bb81beea>\u001b[0m in \u001b[0;36m<module>\u001b[1;34m\u001b[0m\n\u001b[0;32m      4\u001b[0m \u001b[0mv_vals_old\u001b[0m \u001b[1;33m=\u001b[0m \u001b[0mnp\u001b[0m\u001b[1;33m.\u001b[0m\u001b[0mtile\u001b[0m\u001b[1;33m(\u001b[0m \u001b[0mp\u001b[0m\u001b[1;33m*\u001b[0m\u001b[0mvmax1h\u001b[0m \u001b[1;33m+\u001b[0m \u001b[1;33m(\u001b[0m\u001b[1;36m1\u001b[0m\u001b[1;33m-\u001b[0m\u001b[0mp\u001b[0m\u001b[1;33m)\u001b[0m\u001b[1;33m*\u001b[0m\u001b[0mvmax1l\u001b[0m\u001b[1;33m,\u001b[0m \u001b[1;33m(\u001b[0m\u001b[0mN_grid_tot\u001b[0m\u001b[1;33m,\u001b[0m\u001b[1;36m1\u001b[0m\u001b[1;33m)\u001b[0m \u001b[1;33m)\u001b[0m\u001b[1;33m\u001b[0m\u001b[1;33m\u001b[0m\u001b[0m\n\u001b[0;32m      5\u001b[0m \u001b[1;33m\u001b[0m\u001b[0m\n\u001b[1;32m----> 6\u001b[1;33m \u001b[0mpol_func_ah_old\u001b[0m \u001b[1;33m=\u001b[0m \u001b[0mpol_func_ah\u001b[0m\u001b[1;33m.\u001b[0m\u001b[0mcopy\u001b[0m\u001b[1;33m(\u001b[0m\u001b[1;33m)\u001b[0m\u001b[1;33m\u001b[0m\u001b[1;33m\u001b[0m\u001b[0m\n\u001b[0m\u001b[0;32m      7\u001b[0m \u001b[0mpol_func_bh_old\u001b[0m \u001b[1;33m=\u001b[0m \u001b[0mpol_func_bh\u001b[0m\u001b[1;33m.\u001b[0m\u001b[0mcopy\u001b[0m\u001b[1;33m(\u001b[0m\u001b[1;33m)\u001b[0m\u001b[1;33m\u001b[0m\u001b[1;33m\u001b[0m\u001b[0m\n\u001b[0;32m      8\u001b[0m \u001b[0mpol_func_ch_old\u001b[0m \u001b[1;33m=\u001b[0m \u001b[0mpol_func_ch\u001b[0m\u001b[1;33m.\u001b[0m\u001b[0mcopy\u001b[0m\u001b[1;33m(\u001b[0m\u001b[1;33m)\u001b[0m\u001b[1;33m\u001b[0m\u001b[1;33m\u001b[0m\u001b[0m\n",
      "\u001b[1;31mNameError\u001b[0m: name 'pol_func_ah' is not defined"
     ]
    }
   ],
   "source": [
    "# Period 0: the first period\n",
    "\n",
    "# v_vals_old = np.tile(vmax1, (N_grid_tot,1) )    # prepare V' for every row (a,b)\n",
    "v_vals_old = np.tile( p*vmax1h + (1-p)*vmax1l, (N_grid_tot,1) )\n",
    "\n",
    "pol_func_ah_old = pol_func_ah.copy() \n",
    "pol_func_bh_old = pol_func_bh.copy() \n",
    "pol_func_ch_old = pol_func_ch.copy()\n",
    "pol_func_al_old = pol_func_al.copy() \n",
    "pol_func_bl_old = pol_func_bl.copy() \n",
    "pol_func_cl_old = pol_func_cl.copy()\n",
    "\n",
    "for j in range(N_grid_tot):    # given every row (a,b), record V for every column j (a',b')\n",
    "#     v_vals[:,j] = p*u(ct_mat0h[:,j]) + (1-p)*u(ct_mat0l[:,j]) + u(α * ab_mat[:,0]) + β*δ*v_vals_old[:,j]\n",
    "#     v_vals1[:,j] = p*u(ct_mat0h[:,j]) + (1-p)*u(ct_mat0l[:,j]) + u(α * ab_mat[:,0]) + δ*v_vals_old[:,j]\n",
    "    \n",
    "#     # first period where b==0: c = a-(a'-y'-b')/Rs\n",
    "#     ct_mat0h[:,j] = ab_mat[:,0] + yh/10 - (ab_mat[j,0] - ab_mat[j,1] + Rb * ab_mat[:,1])/Rs\n",
    "#     ct_mat0l[:,j] = ab_mat[:,0] + yl/10 - (ab_mat[j,0] - ab_mat[j,1] + Rb * ab_mat[:,1])/Rs\n",
    "#     ct_mat0h[ct_mat0h<0] = np.nan\n",
    "#     ct_mat0l[ct_mat0l<0] = np.nan\n",
    "    \n",
    "    v_valsh[:,j]  = u(ct_mat0h[:,j]) + u(α * ab_mat[:,0]) + β*δ*v_vals_old[:,j]\n",
    "    v_vals1h[:,j] = u(ct_mat0h[:,j]) + u(α * ab_mat[:,0]) + δ*v_vals_old[:,j]\n",
    "    \n",
    "    v_valsl[:,j]  = u(ct_mat0l[:,j]) + u(α * ab_mat[:,0]) + β*δ*v_vals_old[:,j]\n",
    "    v_vals1l[:,j] = u(ct_mat0l[:,j]) + u(α * ab_mat[:,0]) + δ*v_vals_old[:,j]\n",
    "    \n",
    "# vmax = np.nanmax(v_vals,1)         # find the (a', b') that maximizes Vt\n",
    "vmaxh = np.nanmax(v_valsh,1)\n",
    "vmaxl = np.nanmax(v_valsl,1)\n",
    "\n",
    "\n",
    "# argvmax = np.argmax(v_vals,1)   # record the index of optimal (a', b')\n",
    "\n",
    "# argvmax = np.zeros(N_grid_tot) * np.nan\n",
    "argvmaxh = np.zeros(N_grid_tot) * np.nan\n",
    "argvmaxl = np.zeros(N_grid_tot) * np.nan\n",
    "\n",
    "for idx in range(N_grid_tot):\n",
    "#     argvmax[idx] = _nanargmax(v_vals[idx,:])\n",
    "\n",
    "    argvmaxh[idx] = _nanargmax(v_valsh[idx,:])\n",
    "    argvmaxl[idx] = _nanargmax(v_valsl[idx,:])\n",
    "    \n",
    "    # record the optimal policies\n",
    "#     if ~np.isnan(argvmax[idx]):             \n",
    "#         pol_func_a[idx,0] = ab_mat[int(argvmax[idx]),0]\n",
    "#         pol_func_b[idx,0] = ab_mat[int(argvmax[idx]),1]\n",
    "#         pol_func_c[idx,0] = p*ct_mat0h[idx, int(argvmax[idx])]+(1-p)*ct_mat0l[idx, int(argvmax[idx])]\n",
    "    \n",
    "    if ~np.isnan(argvmaxh[idx]):             \n",
    "        pol_func_ah[idx,0] = ab_mat[int(argvmaxh[idx]),0]\n",
    "#         pol_func_ah[idx,1:] = pol_func_ah_old[int(argvmaxh[idx]),1:]\n",
    "        \n",
    "        pol_func_bh[idx,0] = ab_mat[int(argvmaxh[idx]),1]\n",
    "#         pol_func_bh[idx,1:] = pol_func_bh_old[int(argvmaxh[idx]),1:]\n",
    "        \n",
    "        pol_func_ch[idx,0] = ct_mat0h[idx, int(argvmaxh[idx])]\n",
    "#         pol_func_ch[idx,1:] = pol_func_ch_old[int(argvmaxh[idx]),1:]\n",
    "\n",
    "    if ~np.isnan(argvmaxl[idx]):             \n",
    "        pol_func_al[idx,0] = ab_mat[int(argvmaxl[idx]),0]\n",
    "#         pol_func_al[idx,1:] = pol_func_al_old[int(argvmaxh[idx]),1:]\n",
    "        \n",
    "        pol_func_bl[idx,0] = ab_mat[int(argvmaxl[idx]),1]\n",
    "#         pol_func_bl[idx,1:] = pol_func_bl_old[int(argvmaxh[idx]),1:]\n",
    "        \n",
    "        pol_func_cl[idx,0] = ct_mat0l[idx, int(argvmaxl[idx])]\n",
    "#         pol_func_cl[idx,1:] = pol_func_cl_old[int(argvmaxh[idx]),1:]\n",
    "    \n",
    "\n",
    "# vmax1 = np.nanmax(v_vals1,1)       # record max Vt w/o β for next period computation\n",
    "\n",
    "vmax1h = np.nanmax(v_vals1h,1)\n",
    "vmax1l = np.nanmax(v_vals1l,1)\n",
    "\n",
    "vh[0] = v_valsh.copy()\n",
    "vl[0] = v_valsl.copy()\n",
    "\n",
    "# # record the optimal policies\n",
    "# for i in range(N_grid_tot):\n",
    "#     pol_func_a[i,0] = ab_mat[argvmax[i],0]\n",
    "#     pol_func_b[i,0] = ab_mat[argvmax[i],1]"
   ]
  },
  {
   "cell_type": "code",
   "execution_count": null,
   "metadata": {},
   "outputs": [],
   "source": []
  },
  {
   "cell_type": "code",
   "execution_count": 172,
   "metadata": {
    "scrolled": false
   },
   "outputs": [],
   "source": [
    "# dfv_valsh = pd.DataFrame(v_valsh)"
   ]
  },
  {
   "cell_type": "code",
   "execution_count": 173,
   "metadata": {
    "scrolled": true
   },
   "outputs": [],
   "source": [
    "# dfv_valsh"
   ]
  },
  {
   "cell_type": "code",
   "execution_count": 174,
   "metadata": {},
   "outputs": [],
   "source": [
    "# ab_mat"
   ]
  },
  {
   "cell_type": "code",
   "execution_count": 176,
   "metadata": {},
   "outputs": [],
   "source": [
    "# ab_mat[261]"
   ]
  },
  {
   "cell_type": "code",
   "execution_count": 106,
   "metadata": {},
   "outputs": [
    {
     "data": {
      "text/plain": [
       "nan"
      ]
     },
     "execution_count": 106,
     "metadata": {},
     "output_type": "execute_result"
    }
   ],
   "source": [
    "# t=18, ab_mat[151]\n",
    "\n",
    "_nanargmax(vh[18][151,:])"
   ]
  },
  {
   "cell_type": "code",
   "execution_count": 107,
   "metadata": {},
   "outputs": [
    {
     "data": {
      "text/plain": [
       "nan"
      ]
     },
     "execution_count": 107,
     "metadata": {},
     "output_type": "execute_result"
    }
   ],
   "source": [
    "ct_mat2h[151,61]"
   ]
  },
  {
   "cell_type": "code",
   "execution_count": 108,
   "metadata": {
    "scrolled": true
   },
   "outputs": [],
   "source": [
    "# ab_mat[61]"
   ]
  },
  {
   "cell_type": "code",
   "execution_count": 109,
   "metadata": {},
   "outputs": [],
   "source": [
    "# ab_mat[61-21]"
   ]
  },
  {
   "cell_type": "code",
   "execution_count": 110,
   "metadata": {},
   "outputs": [],
   "source": [
    "# ab_mat[_nanargmax(vh[18][151,:])]"
   ]
  },
  {
   "cell_type": "code",
   "execution_count": 111,
   "metadata": {
    "scrolled": false
   },
   "outputs": [],
   "source": [
    "# dfvh = pd.DataFrame(vh[18][151,:])\n",
    "# dfvh"
   ]
  },
  {
   "cell_type": "code",
   "execution_count": null,
   "metadata": {},
   "outputs": [],
   "source": []
  },
  {
   "cell_type": "code",
   "execution_count": null,
   "metadata": {},
   "outputs": [],
   "source": []
  },
  {
   "cell_type": "code",
   "execution_count": 284,
   "metadata": {},
   "outputs": [],
   "source": [
    "# vmaxh,vmaxl, vmax1h,vmax1l"
   ]
  },
  {
   "cell_type": "code",
   "execution_count": 285,
   "metadata": {},
   "outputs": [
    {
     "data": {
      "text/plain": [
       "20"
      ]
     },
     "execution_count": 285,
     "metadata": {},
     "output_type": "execute_result"
    }
   ],
   "source": [
    "T"
   ]
  },
  {
   "cell_type": "code",
   "execution_count": 286,
   "metadata": {},
   "outputs": [
    {
     "data": {
      "text/plain": [
       "array([[0.41052632, 0.41052632, 0.41052632, 0.41052632, 0.41052632,\n",
       "        0.41052632, 0.41052632, 0.41052632, 0.41052632, 0.41052632,\n",
       "        0.41052632, 0.41052632, 0.41052632, 0.41052632, 0.41052632,\n",
       "        0.41052632, 0.41052632, 0.41052632, 0.41052632, 0.1       ,\n",
       "        0.1       ],\n",
       "       [0.72105263, 0.72105263, 0.72105263, 0.72105263, 0.72105263,\n",
       "        0.72105263, 0.72105263, 0.72105263, 0.72105263, 0.72105263,\n",
       "        0.72105263, 0.72105263, 0.72105263, 0.72105263, 0.72105263,\n",
       "        0.72105263, 0.72105263, 0.72105263, 0.72105263, 1.34210526,\n",
       "        0.1       ],\n",
       "       [1.03157895, 1.03157895, 1.03157895, 1.03157895, 1.03157895,\n",
       "        1.03157895, 1.03157895, 1.03157895, 1.03157895, 1.03157895,\n",
       "        1.03157895, 1.03157895, 1.03157895, 1.03157895, 1.03157895,\n",
       "        1.03157895, 1.03157895, 1.03157895, 1.03157895, 1.65263158,\n",
       "        0.41052632],\n",
       "       [1.03157895, 1.03157895, 1.03157895, 1.03157895, 1.03157895,\n",
       "        1.03157895, 1.03157895, 1.03157895, 1.03157895, 1.03157895,\n",
       "        1.03157895, 1.03157895, 1.03157895, 1.03157895, 1.03157895,\n",
       "        1.03157895, 1.03157895, 1.03157895, 2.27368421, 1.65263158,\n",
       "        0.41052632],\n",
       "       [1.34210526, 1.34210526, 1.34210526, 1.34210526, 1.34210526,\n",
       "        1.34210526, 1.34210526, 1.34210526, 1.34210526, 1.34210526,\n",
       "        1.34210526, 1.34210526, 1.34210526, 1.34210526, 1.34210526,\n",
       "        1.34210526, 1.34210526, 2.58421053, 2.27368421, 1.65263158,\n",
       "        0.41052632],\n",
       "       [1.65263158, 1.65263158, 1.65263158, 1.65263158, 1.65263158,\n",
       "        1.65263158, 1.65263158, 1.65263158, 1.65263158, 1.65263158,\n",
       "        1.65263158, 1.65263158, 1.65263158, 1.65263158, 1.65263158,\n",
       "        1.65263158, 1.65263158, 2.58421053, 2.58421053, 2.89473684,\n",
       "        0.41052632],\n",
       "       [1.96315789, 1.96315789, 1.96315789, 1.96315789, 1.96315789,\n",
       "        1.96315789, 1.96315789, 1.96315789, 1.96315789, 1.96315789,\n",
       "        1.96315789, 1.96315789, 1.96315789, 1.96315789, 1.96315789,\n",
       "        1.96315789, 2.89473684, 2.58421053, 2.58421053, 2.89473684,\n",
       "        0.41052632],\n",
       "       [2.27368421, 2.27368421, 2.27368421, 2.27368421, 2.27368421,\n",
       "        2.27368421, 2.27368421, 2.27368421, 2.27368421, 2.27368421,\n",
       "        2.27368421, 2.27368421, 2.27368421, 2.27368421, 2.27368421,\n",
       "        3.20526316, 2.89473684, 2.58421053, 2.58421053, 2.89473684,\n",
       "        0.41052632],\n",
       "       [2.58421053, 2.58421053, 2.58421053, 2.58421053, 2.58421053,\n",
       "        2.58421053, 2.58421053, 2.58421053, 2.58421053, 2.58421053,\n",
       "        2.58421053, 2.58421053, 2.58421053, 2.58421053, 2.58421053,\n",
       "        3.51578947, 3.20526316, 2.89473684, 3.82631579, 2.89473684,\n",
       "        0.41052632],\n",
       "       [2.89473684, 2.89473684, 2.89473684, 2.89473684, 2.89473684,\n",
       "        2.89473684, 2.89473684, 2.89473684, 2.89473684, 2.89473684,\n",
       "        2.89473684, 2.89473684, 2.89473684, 2.89473684, 2.89473684,\n",
       "        3.51578947, 3.51578947, 3.20526316, 4.13684211, 4.44736842,\n",
       "        0.41052632],\n",
       "       [3.20526316, 3.20526316, 3.20526316, 3.20526316, 3.20526316,\n",
       "        3.20526316, 3.20526316, 3.20526316, 3.20526316, 3.20526316,\n",
       "        3.20526316, 3.20526316, 3.20526316, 3.20526316, 3.82631579,\n",
       "        3.51578947, 3.51578947, 3.20526316, 4.13684211, 4.44736842,\n",
       "        0.41052632],\n",
       "       [3.51578947, 3.51578947, 3.51578947, 3.51578947, 3.51578947,\n",
       "        3.51578947, 3.51578947, 3.51578947, 3.51578947, 3.51578947,\n",
       "        3.51578947, 3.51578947, 3.51578947, 3.51578947, 4.13684211,\n",
       "        3.82631579, 3.51578947, 3.51578947, 4.44736842, 4.75789474,\n",
       "        0.72105263],\n",
       "       [3.82631579, 3.82631579, 3.82631579, 3.82631579, 3.82631579,\n",
       "        3.82631579, 3.82631579, 3.82631579, 3.82631579, 3.82631579,\n",
       "        3.82631579, 3.82631579, 3.82631579, 3.82631579, 4.44736842,\n",
       "        4.13684211, 3.82631579, 4.75789474, 4.44736842, 4.75789474,\n",
       "        0.72105263],\n",
       "       [4.13684211, 4.13684211, 4.13684211, 4.13684211, 4.13684211,\n",
       "        4.13684211, 4.13684211, 4.13684211, 4.13684211, 4.13684211,\n",
       "        4.13684211, 4.13684211, 4.13684211, 4.44736842, 4.44736842,\n",
       "        4.13684211, 3.82631579, 4.75789474, 4.44736842, 4.75789474,\n",
       "        0.72105263],\n",
       "       [4.44736842, 4.44736842, 4.44736842, 4.44736842, 4.44736842,\n",
       "        4.44736842, 4.44736842, 4.44736842, 4.44736842, 4.44736842,\n",
       "        4.44736842, 4.44736842, 4.44736842, 4.75789474, 4.44736842,\n",
       "        4.44736842, 4.13684211, 5.06842105, 4.44736842, 6.        ,\n",
       "        0.72105263],\n",
       "       [4.75789474, 4.75789474, 4.75789474, 4.75789474, 4.75789474,\n",
       "        4.75789474, 4.75789474, 4.75789474, 4.75789474, 4.75789474,\n",
       "        4.75789474, 4.75789474, 4.75789474, 5.06842105, 4.75789474,\n",
       "        4.44736842, 4.44736842, 5.06842105, 6.        , 6.        ,\n",
       "        0.72105263],\n",
       "       [5.06842105, 5.06842105, 5.06842105, 5.06842105, 5.06842105,\n",
       "        5.06842105, 5.06842105, 5.06842105, 5.06842105, 5.06842105,\n",
       "        5.06842105, 5.06842105, 5.06842105, 5.06842105, 5.06842105,\n",
       "        4.75789474, 5.68947368, 5.06842105, 6.        , 6.        ,\n",
       "        0.72105263],\n",
       "       [5.37894737, 5.37894737, 5.37894737, 5.37894737, 5.37894737,\n",
       "        5.37894737, 5.37894737, 5.37894737, 5.37894737, 5.37894737,\n",
       "        5.37894737, 5.37894737, 5.37894737, 5.06842105, 5.06842105,\n",
       "        4.75789474, 5.68947368, 5.06842105, 6.        , 6.        ,\n",
       "        0.72105263],\n",
       "       [5.68947368, 5.68947368, 5.68947368, 5.68947368, 5.68947368,\n",
       "        5.68947368, 5.68947368, 5.68947368, 5.68947368, 5.68947368,\n",
       "        5.68947368, 5.68947368, 5.68947368, 5.37894737, 5.06842105,\n",
       "        5.06842105, 6.        , 5.37894737, 6.        , 6.        ,\n",
       "        1.03157895],\n",
       "       [6.        , 6.        , 6.        , 6.        , 6.        ,\n",
       "        6.        , 6.        , 6.        , 6.        , 6.        ,\n",
       "        6.        , 6.        , 5.68947368, 5.37894737, 5.06842105,\n",
       "        5.06842105, 6.        , 5.37894737, 6.        , 6.        ,\n",
       "        1.03157895]])"
      ]
     },
     "execution_count": 286,
     "metadata": {},
     "output_type": "execute_result"
    }
   ],
   "source": [
    "pol_func_ah.reshape(N_grid_a,N_grid_b,T+1)[:,0,:]"
   ]
  },
  {
   "cell_type": "code",
   "execution_count": 287,
   "metadata": {},
   "outputs": [
    {
     "data": {
      "text/plain": [
       "array([[0.31052632, 0.31052632, 0.31052632, 0.31052632, 0.31052632,\n",
       "        0.31052632, 0.31052632, 0.31052632, 0.31052632, 0.31052632,\n",
       "        0.31052632, 0.31052632, 0.31052632, 0.31052632, 0.31052632,\n",
       "        0.31052632, 0.31052632, 0.31052632, 0.31052632, 0.        ,\n",
       "        0.        ],\n",
       "       [0.31052632, 0.31052632, 0.31052632, 0.31052632, 0.31052632,\n",
       "        0.31052632, 0.31052632, 0.31052632, 0.31052632, 0.31052632,\n",
       "        0.31052632, 0.31052632, 0.31052632, 0.31052632, 0.31052632,\n",
       "        0.31052632, 0.31052632, 0.31052632, 0.31052632, 0.93157895,\n",
       "        0.        ],\n",
       "       [0.31052632, 0.31052632, 0.31052632, 0.31052632, 0.31052632,\n",
       "        0.31052632, 0.31052632, 0.31052632, 0.31052632, 0.31052632,\n",
       "        0.31052632, 0.31052632, 0.31052632, 0.31052632, 0.31052632,\n",
       "        0.31052632, 0.31052632, 0.31052632, 0.31052632, 0.93157895,\n",
       "        0.        ],\n",
       "       [0.        , 0.        , 0.        , 0.        , 0.        ,\n",
       "        0.        , 0.        , 0.        , 0.        , 0.        ,\n",
       "        0.        , 0.        , 0.        , 0.        , 0.        ,\n",
       "        0.        , 0.        , 0.        , 1.24210526, 0.93157895,\n",
       "        0.        ],\n",
       "       [0.        , 0.        , 0.        , 0.        , 0.        ,\n",
       "        0.        , 0.        , 0.        , 0.        , 0.        ,\n",
       "        0.        , 0.        , 0.        , 0.        , 0.        ,\n",
       "        0.        , 0.        , 1.24210526, 1.24210526, 0.93157895,\n",
       "        0.        ],\n",
       "       [0.        , 0.        , 0.        , 0.        , 0.        ,\n",
       "        0.        , 0.        , 0.        , 0.        , 0.        ,\n",
       "        0.        , 0.        , 0.        , 0.        , 0.        ,\n",
       "        0.        , 0.        , 0.93157895, 1.24210526, 1.86315789,\n",
       "        0.        ],\n",
       "       [0.        , 0.        , 0.        , 0.        , 0.        ,\n",
       "        0.        , 0.        , 0.        , 0.        , 0.        ,\n",
       "        0.        , 0.        , 0.        , 0.        , 0.        ,\n",
       "        0.        , 0.93157895, 0.93157895, 1.24210526, 1.86315789,\n",
       "        0.        ],\n",
       "       [0.        , 0.        , 0.        , 0.        , 0.        ,\n",
       "        0.        , 0.        , 0.        , 0.        , 0.        ,\n",
       "        0.        , 0.        , 0.        , 0.        , 0.        ,\n",
       "        0.93157895, 0.93157895, 0.93157895, 1.24210526, 1.86315789,\n",
       "        0.        ],\n",
       "       [0.        , 0.        , 0.        , 0.        , 0.        ,\n",
       "        0.        , 0.        , 0.        , 0.        , 0.        ,\n",
       "        0.        , 0.        , 0.        , 0.        , 0.        ,\n",
       "        0.93157895, 0.93157895, 0.93157895, 2.17368421, 1.86315789,\n",
       "        0.        ],\n",
       "       [0.        , 0.        , 0.        , 0.        , 0.        ,\n",
       "        0.        , 0.        , 0.        , 0.        , 0.        ,\n",
       "        0.        , 0.        , 0.        , 0.        , 0.        ,\n",
       "        0.62105263, 0.93157895, 0.93157895, 2.17368421, 3.10526316,\n",
       "        0.        ],\n",
       "       [0.        , 0.        , 0.        , 0.        , 0.        ,\n",
       "        0.        , 0.        , 0.        , 0.        , 0.        ,\n",
       "        0.        , 0.        , 0.        , 0.        , 0.62105263,\n",
       "        0.62105263, 0.93157895, 0.93157895, 2.17368421, 3.10526316,\n",
       "        0.        ],\n",
       "       [0.        , 0.        , 0.        , 0.        , 0.        ,\n",
       "        0.        , 0.        , 0.        , 0.        , 0.        ,\n",
       "        0.        , 0.        , 0.        , 0.        , 0.62105263,\n",
       "        0.62105263, 0.62105263, 0.93157895, 2.17368421, 3.10526316,\n",
       "        0.        ],\n",
       "       [0.        , 0.        , 0.        , 0.        , 0.        ,\n",
       "        0.        , 0.        , 0.        , 0.        , 0.        ,\n",
       "        0.        , 0.        , 0.        , 0.        , 0.62105263,\n",
       "        0.62105263, 0.62105263, 1.86315789, 2.17368421, 3.10526316,\n",
       "        0.        ],\n",
       "       [0.        , 0.        , 0.        , 0.        , 0.        ,\n",
       "        0.        , 0.        , 0.        , 0.        , 0.        ,\n",
       "        0.        , 0.        , 0.        , 0.31052632, 0.62105263,\n",
       "        0.62105263, 0.62105263, 1.86315789, 2.17368421, 3.10526316,\n",
       "        0.        ],\n",
       "       [0.        , 0.        , 0.        , 0.        , 0.        ,\n",
       "        0.        , 0.        , 0.        , 0.        , 0.        ,\n",
       "        0.        , 0.        , 0.        , 0.31052632, 0.31052632,\n",
       "        0.62105263, 0.62105263, 1.86315789, 1.86315789, 4.03684211,\n",
       "        0.        ],\n",
       "       [0.        , 0.        , 0.        , 0.        , 0.        ,\n",
       "        0.        , 0.        , 0.        , 0.        , 0.        ,\n",
       "        0.        , 0.        , 0.        , 0.31052632, 0.31052632,\n",
       "        0.31052632, 0.62105263, 1.55263158, 3.10526316, 4.03684211,\n",
       "        0.        ],\n",
       "       [0.        , 0.        , 0.        , 0.        , 0.        ,\n",
       "        0.        , 0.        , 0.        , 0.        , 0.        ,\n",
       "        0.        , 0.        , 0.        , 0.        , 0.31052632,\n",
       "        0.31052632, 1.55263158, 1.55263158, 3.10526316, 4.03684211,\n",
       "        0.        ],\n",
       "       [0.        , 0.        , 0.        , 0.        , 0.        ,\n",
       "        0.        , 0.        , 0.        , 0.        , 0.        ,\n",
       "        0.        , 0.        , 0.        , 0.        , 0.31052632,\n",
       "        0.31052632, 1.55263158, 1.55263158, 3.10526316, 4.03684211,\n",
       "        0.        ],\n",
       "       [0.        , 0.        , 0.        , 0.        , 0.        ,\n",
       "        0.        , 0.        , 0.        , 0.        , 0.        ,\n",
       "        0.        , 0.        , 0.        , 0.        , 0.        ,\n",
       "        0.31052632, 1.55263158, 1.55263158, 2.79473684, 3.72631579,\n",
       "        0.        ],\n",
       "       [0.        , 0.        , 0.        , 0.        , 0.        ,\n",
       "        0.        , 0.        , 0.        , 0.        , 0.        ,\n",
       "        0.        , 0.        , 0.        , 0.        , 0.        ,\n",
       "        0.31052632, 1.55263158, 1.55263158, 2.79473684, 3.72631579,\n",
       "        0.        ]])"
      ]
     },
     "execution_count": 287,
     "metadata": {},
     "output_type": "execute_result"
    }
   ],
   "source": [
    "pol_func_bh.reshape(N_grid_a,N_grid_b,T+1)[:,0,:]"
   ]
  },
  {
   "cell_type": "code",
   "execution_count": 288,
   "metadata": {},
   "outputs": [
    {
     "data": {
      "text/plain": [
       "array([[0.11769526, 0.11769526, 0.0814865 , 0.0814865 , 0.0814865 ,\n",
       "        0.0814865 , 0.0814865 , 0.0814865 , 0.0814865 , 0.0814865 ,\n",
       "        0.0814865 , 0.0814865 , 0.0814865 , 0.0814865 , 0.0814865 ,\n",
       "        0.0814865 , 0.0814865 , 0.0814865 , 0.0814865 , 0.0814865 ,\n",
       "        0.00671642],\n",
       "       [0.13855151, 0.13855151, 0.10234275, 0.10234275, 0.10234275,\n",
       "        0.10234275, 0.10234275, 0.10234275, 0.10234275, 0.10234275,\n",
       "        0.10234275, 0.10234275, 0.10234275, 0.10234275, 0.10234275,\n",
       "        0.10234275, 0.10234275, 0.10234275, 0.10234275, 0.10234275,\n",
       "        0.20861646],\n",
       "       [0.15940775, 0.15940775, 0.12319899, 0.12319899, 0.12319899,\n",
       "        0.12319899, 0.12319899, 0.12319899, 0.12319899, 0.12319899,\n",
       "        0.12319899, 0.12319899, 0.12319899, 0.12319899, 0.12319899,\n",
       "        0.12319899, 0.12319899, 0.12319899, 0.12319899, 0.12319899,\n",
       "        0.2294727 ],\n",
       "       [0.180264  , 0.180264  , 0.180264  , 0.180264  , 0.180264  ,\n",
       "        0.180264  , 0.180264  , 0.180264  , 0.180264  , 0.180264  ,\n",
       "        0.180264  , 0.180264  , 0.180264  , 0.180264  , 0.180264  ,\n",
       "        0.180264  , 0.180264  , 0.180264  , 0.180264  , 0.32509903,\n",
       "        0.2294727 ],\n",
       "       [0.20112024, 0.20112024, 0.20112024, 0.20112024, 0.20112024,\n",
       "        0.20112024, 0.20112024, 0.20112024, 0.20112024, 0.20112024,\n",
       "        0.20112024, 0.20112024, 0.20112024, 0.20112024, 0.20112024,\n",
       "        0.20112024, 0.20112024, 0.20112024, 0.34595528, 0.32509903,\n",
       "        0.2294727 ],\n",
       "       [0.22197649, 0.22197649, 0.22197649, 0.22197649, 0.22197649,\n",
       "        0.22197649, 0.22197649, 0.22197649, 0.22197649, 0.22197649,\n",
       "        0.22197649, 0.22197649, 0.22197649, 0.22197649, 0.22197649,\n",
       "        0.22197649, 0.22197649, 0.22197649, 0.40302028, 0.34595528,\n",
       "        0.43137274],\n",
       "       [0.24283273, 0.24283273, 0.24283273, 0.24283273, 0.24283273,\n",
       "        0.24283273, 0.24283273, 0.24283273, 0.24283273, 0.24283273,\n",
       "        0.24283273, 0.24283273, 0.24283273, 0.24283273, 0.24283273,\n",
       "        0.24283273, 0.24283273, 0.42387653, 0.40302028, 0.34595528,\n",
       "        0.43137274],\n",
       "       [0.26368898, 0.26368898, 0.26368898, 0.26368898, 0.26368898,\n",
       "        0.26368898, 0.26368898, 0.26368898, 0.26368898, 0.26368898,\n",
       "        0.26368898, 0.26368898, 0.26368898, 0.26368898, 0.26368898,\n",
       "        0.26368898, 0.44473277, 0.42387653, 0.40302028, 0.34595528,\n",
       "        0.43137274],\n",
       "       [0.28454522, 0.28454522, 0.28454522, 0.28454522, 0.28454522,\n",
       "        0.28454522, 0.28454522, 0.28454522, 0.28454522, 0.28454522,\n",
       "        0.28454522, 0.28454522, 0.28454522, 0.28454522, 0.28454522,\n",
       "        0.28454522, 0.46558902, 0.44473277, 0.42387653, 0.54785532,\n",
       "        0.43137274],\n",
       "       [0.30540147, 0.30540147, 0.30540147, 0.30540147, 0.30540147,\n",
       "        0.30540147, 0.30540147, 0.30540147, 0.30540147, 0.30540147,\n",
       "        0.30540147, 0.30540147, 0.30540147, 0.30540147, 0.30540147,\n",
       "        0.30540147, 0.52265402, 0.46558902, 0.44473277, 0.56871156,\n",
       "        0.59706402],\n",
       "       [0.32625771, 0.32625771, 0.32625771, 0.32625771, 0.32625771,\n",
       "        0.32625771, 0.32625771, 0.32625771, 0.32625771, 0.32625771,\n",
       "        0.32625771, 0.32625771, 0.32625771, 0.32625771, 0.32625771,\n",
       "        0.54351027, 0.52265402, 0.46558902, 0.44473277, 0.56871156,\n",
       "        0.59706402],\n",
       "       [0.34711396, 0.34711396, 0.34711396, 0.34711396, 0.34711396,\n",
       "        0.34711396, 0.34711396, 0.34711396, 0.34711396, 0.34711396,\n",
       "        0.34711396, 0.34711396, 0.34711396, 0.34711396, 0.34711396,\n",
       "        0.56436651, 0.54351027, 0.52265402, 0.46558902, 0.58956781,\n",
       "        0.61792027],\n",
       "       [0.3679702 , 0.3679702 , 0.3679702 , 0.3679702 , 0.3679702 ,\n",
       "        0.3679702 , 0.3679702 , 0.3679702 , 0.3679702 , 0.3679702 ,\n",
       "        0.3679702 , 0.3679702 , 0.3679702 , 0.3679702 , 0.3679702 ,\n",
       "        0.58522276, 0.56436651, 0.54351027, 0.66748906, 0.58956781,\n",
       "        0.61792027],\n",
       "       [0.38882645, 0.38882645, 0.38882645, 0.38882645, 0.38882645,\n",
       "        0.38882645, 0.38882645, 0.38882645, 0.38882645, 0.38882645,\n",
       "        0.38882645, 0.38882645, 0.38882645, 0.38882645, 0.64228776,\n",
       "        0.58522276, 0.56436651, 0.54351027, 0.66748906, 0.58956781,\n",
       "        0.61792027],\n",
       "       [0.40968269, 0.40968269, 0.40968269, 0.40968269, 0.40968269,\n",
       "        0.40968269, 0.40968269, 0.40968269, 0.40968269, 0.40968269,\n",
       "        0.40968269, 0.40968269, 0.40968269, 0.40968269, 0.66314401,\n",
       "        0.64228776, 0.58522276, 0.56436651, 0.6883453 , 0.64663281,\n",
       "        0.81982031],\n",
       "       [0.43053894, 0.43053894, 0.43053894, 0.43053894, 0.43053894,\n",
       "        0.43053894, 0.43053894, 0.43053894, 0.43053894, 0.43053894,\n",
       "        0.43053894, 0.43053894, 0.43053894, 0.43053894, 0.68400025,\n",
       "        0.66314401, 0.64228776, 0.58522276, 0.74541031, 0.81232409,\n",
       "        0.81982031],\n",
       "       [0.45139518, 0.45139518, 0.45139518, 0.45139518, 0.45139518,\n",
       "        0.45139518, 0.45139518, 0.45139518, 0.45139518, 0.45139518,\n",
       "        0.45139518, 0.45139518, 0.45139518, 0.45139518, 0.74106526,\n",
       "        0.68400025, 0.66314401, 0.7871228 , 0.74541031, 0.81232409,\n",
       "        0.81982031],\n",
       "       [0.47225143, 0.47225143, 0.47225143, 0.47225143, 0.47225143,\n",
       "        0.47225143, 0.47225143, 0.47225143, 0.47225143, 0.47225143,\n",
       "        0.47225143, 0.47225143, 0.47225143, 0.7619215 , 0.74106526,\n",
       "        0.68400025, 0.66314401, 0.7871228 , 0.74541031, 0.81232409,\n",
       "        0.81982031],\n",
       "       [0.49310768, 0.49310768, 0.49310768, 0.49310768, 0.49310768,\n",
       "        0.49310768, 0.49310768, 0.49310768, 0.49310768, 0.49310768,\n",
       "        0.49310768, 0.49310768, 0.49310768, 0.78277775, 0.7619215 ,\n",
       "        0.74106526, 0.68400025, 0.80797904, 0.76626655, 0.8693891 ,\n",
       "        0.87688531],\n",
       "       [0.51396392, 0.51396392, 0.51396392, 0.51396392, 0.51396392,\n",
       "        0.51396392, 0.51396392, 0.51396392, 0.51396392, 0.51396392,\n",
       "        0.51396392, 0.51396392, 0.80363399, 0.78277775, 0.7619215 ,\n",
       "        0.74106526, 0.68400025, 0.80797904, 0.76626655, 0.8693891 ,\n",
       "        0.87688531]])"
      ]
     },
     "execution_count": 288,
     "metadata": {},
     "output_type": "execute_result"
    }
   ],
   "source": [
    "pol_func_ch.reshape(N_grid_a,N_grid_b,T+1)[:,0,:]"
   ]
  },
  {
   "cell_type": "code",
   "execution_count": 289,
   "metadata": {},
   "outputs": [],
   "source": [
    "# pol_a = pol_func_a[:,0].reshape(N_grid_a,N_grid_b)[:,0]\n",
    "# pol_b = pol_func_b[:,0].reshape(N_grid_b,N_grid_a)[:,0]\n",
    "# pol_c = pol_func_c[:,0].reshape(N_grid_a,N_grid_b)[:,0]\n",
    "\n",
    "pol_ah = pol_func_ah[:,0].reshape(N_grid_a,N_grid_b)[:,0]\n",
    "pol_bh = pol_func_bh[:,0].reshape(N_grid_b,N_grid_a)[:,0]\n",
    "pol_ch = pol_func_ch[:,0].reshape(N_grid_a,N_grid_b)[:,0]\n",
    "\n",
    "pol_al = pol_func_al[:,0].reshape(N_grid_a,N_grid_b)[:,0]\n",
    "pol_bl = pol_func_bl[:,0].reshape(N_grid_b,N_grid_a)[:,0]\n",
    "pol_cl = pol_func_cl[:,0].reshape(N_grid_a,N_grid_b)[:,0]"
   ]
  },
  {
   "cell_type": "code",
   "execution_count": 290,
   "metadata": {},
   "outputs": [
    {
     "data": {
      "text/plain": [
       "array([0.1       , 0.41052632, 0.72105263, 1.03157895, 1.34210526,\n",
       "       1.65263158, 1.96315789, 2.27368421, 2.58421053, 2.89473684,\n",
       "       3.20526316, 3.51578947, 3.82631579, 4.13684211, 4.44736842,\n",
       "       4.75789474, 5.06842105, 5.37894737, 5.68947368, 6.        ])"
      ]
     },
     "execution_count": 290,
     "metadata": {},
     "output_type": "execute_result"
    }
   ],
   "source": [
    "a_grid"
   ]
  },
  {
   "cell_type": "code",
   "execution_count": 291,
   "metadata": {},
   "outputs": [
    {
     "data": {
      "text/plain": [
       "array([0.        , 0.31052632, 0.62105263, 0.93157895, 1.24210526,\n",
       "       1.55263158, 1.86315789, 2.17368421, 2.48421053, 2.79473684,\n",
       "       3.10526316, 3.41578947, 3.72631579, 4.03684211, 4.34736842,\n",
       "       4.65789474, 4.96842105, 5.27894737, 5.58947368, 5.9       ])"
      ]
     },
     "execution_count": 291,
     "metadata": {},
     "output_type": "execute_result"
    }
   ],
   "source": [
    "b_grid"
   ]
  },
  {
   "cell_type": "code",
   "execution_count": 292,
   "metadata": {},
   "outputs": [
    {
     "data": {
      "text/plain": [
       "array([0.41052632, 0.72105263, 1.03157895, 1.03157895, 1.34210526,\n",
       "       1.65263158, 1.96315789, 2.27368421, 2.58421053, 2.89473684,\n",
       "       3.20526316, 3.51578947, 3.82631579, 4.13684211, 4.44736842,\n",
       "       4.75789474, 5.06842105, 5.37894737, 5.68947368, 6.        ])"
      ]
     },
     "execution_count": 292,
     "metadata": {},
     "output_type": "execute_result"
    }
   ],
   "source": [
    "pol_ah"
   ]
  },
  {
   "cell_type": "code",
   "execution_count": 293,
   "metadata": {},
   "outputs": [
    {
     "data": {
      "text/plain": [
       "array([0.31052632, 0.31052632, 0.31052632, 0.        , 0.        ,\n",
       "       0.        , 0.        , 0.        , 0.        , 0.        ,\n",
       "       0.        , 0.        , 0.        , 0.        , 0.        ,\n",
       "       0.        , 0.        , 0.        , 0.        , 0.        ])"
      ]
     },
     "execution_count": 293,
     "metadata": {},
     "output_type": "execute_result"
    }
   ],
   "source": [
    "pol_bh"
   ]
  },
  {
   "cell_type": "code",
   "execution_count": 294,
   "metadata": {},
   "outputs": [
    {
     "data": {
      "text/plain": [
       "array([0.11769526, 0.13855151, 0.15940775, 0.180264  , 0.20112024,\n",
       "       0.22197649, 0.24283273, 0.26368898, 0.28454522, 0.30540147,\n",
       "       0.32625771, 0.34711396, 0.3679702 , 0.38882645, 0.40968269,\n",
       "       0.43053894, 0.45139518, 0.47225143, 0.49310768, 0.51396392])"
      ]
     },
     "execution_count": 294,
     "metadata": {},
     "output_type": "execute_result"
    }
   ],
   "source": [
    "pol_ch"
   ]
  },
  {
   "cell_type": "code",
   "execution_count": 183,
   "metadata": {},
   "outputs": [
    {
     "data": {
      "text/plain": [
       "array([0.1       , 0.41052632, 0.72105263, 1.03157895, 1.34210526,\n",
       "       1.65263158, 1.96315789, 2.27368421, 2.58421053, 2.89473684,\n",
       "       3.20526316, 3.51578947, 3.82631579, 4.13684211, 4.44736842,\n",
       "       4.75789474, 5.06842105, 5.37894737, 5.68947368, 6.        ])"
      ]
     },
     "execution_count": 183,
     "metadata": {},
     "output_type": "execute_result"
    }
   ],
   "source": [
    "pol_al"
   ]
  },
  {
   "cell_type": "code",
   "execution_count": 184,
   "metadata": {},
   "outputs": [
    {
     "data": {
      "text/plain": [
       "array([0., 0., 0., 0., 0., 0., 0., 0., 0., 0., 0., 0., 0., 0., 0., 0., 0.,\n",
       "       0., 0., 0.])"
      ]
     },
     "execution_count": 184,
     "metadata": {},
     "output_type": "execute_result"
    }
   ],
   "source": [
    "pol_bl"
   ]
  },
  {
   "cell_type": "code",
   "execution_count": 185,
   "metadata": {},
   "outputs": [
    {
     "data": {
      "text/plain": [
       "array([0.10173757, 0.12259382, 0.14345006, 0.16430631, 0.18516255,\n",
       "       0.2060188 , 0.22687504, 0.24773129, 0.26858753, 0.28944378,\n",
       "       0.31030002, 0.33115627, 0.35201251, 0.37286876, 0.393725  ,\n",
       "       0.41458125, 0.43543749, 0.45629374, 0.47714998, 0.49800623])"
      ]
     },
     "execution_count": 185,
     "metadata": {},
     "output_type": "execute_result"
    }
   ],
   "source": [
    "pol_cl"
   ]
  },
  {
   "cell_type": "code",
   "execution_count": null,
   "metadata": {},
   "outputs": [],
   "source": []
  },
  {
   "cell_type": "code",
   "execution_count": null,
   "metadata": {},
   "outputs": [],
   "source": []
  },
  {
   "cell_type": "code",
   "execution_count": null,
   "metadata": {},
   "outputs": [],
   "source": []
  },
  {
   "cell_type": "code",
   "execution_count": 44,
   "metadata": {
    "executionInfo": {
     "elapsed": 41300,
     "status": "aborted",
     "timestamp": 1614915586549,
     "user": {
      "displayName": "Tianyu Han",
      "photoUrl": "https://lh3.googleusercontent.com/a-/AOh14Gi-6Ly8O-nbbTozD9aepxxL1mC9fSU3wq6-nse01A=s64",
      "userId": "18020794539901871466"
     },
     "user_tz": 480
    },
    "id": "1151MZwea4gs"
   },
   "outputs": [],
   "source": [
    "# v_vals0 = vmax.reshape(N_grid_a, N_grid_b)\n",
    "\n",
    "# vmax0 = np.nanmax(v_vals0, 1)\n",
    "\n",
    "# # argvmax0 = np.argmax(v_vals0, 1)\n",
    "\n",
    "# argvmax0 = np.zeros(N_grid_a)*np.nan\n",
    "# for idx in range(N_grid_a):\n",
    "#         argvmax0[idx] = _nanargmax(v_vals0[idx,:])\n",
    "        \n",
    "#         # record the optimal policies\n",
    "#         if ~np.isnan(argvmax[idx]):             \n",
    "#             pol_a[idx] = ab_mat[int(argvmax0[idx]),0]\n",
    "#             pol_b[idx] = ab_mat[int(argvmax0[idx]),1]\n",
    "#             pol_c[idx] = p*ct_mat2h[idx,int(argvmax0[idx])] + (1-p)*ct_mat2l[idx,int(argvmax0[idx])]\n",
    "\n",
    "# # for i in range(N_grid_a):\n",
    "# #         pol_a[i] = ab_mat[argvmax0[i],0]\n",
    "# #         pol_b[i] = ab_mat[argvmax[i],1]\n",
    "# #         pol_c[i] = p*ct_mat2h[i,argvmax0[i]] + (1-p)*ct_mat2l[i,argvmax0[i]]"
   ]
  },
  {
   "cell_type": "code",
   "execution_count": null,
   "metadata": {},
   "outputs": [],
   "source": []
  },
  {
   "cell_type": "code",
   "execution_count": null,
   "metadata": {},
   "outputs": [],
   "source": []
  },
  {
   "cell_type": "code",
   "execution_count": null,
   "metadata": {},
   "outputs": [],
   "source": []
  },
  {
   "cell_type": "code",
   "execution_count": null,
   "metadata": {},
   "outputs": [],
   "source": []
  },
  {
   "cell_type": "code",
   "execution_count": null,
   "metadata": {
    "id": "WtQ0y_ula4gt"
   },
   "outputs": [],
   "source": []
  },
  {
   "cell_type": "code",
   "execution_count": null,
   "metadata": {
    "id": "qcXWP3Zja4gt"
   },
   "outputs": [],
   "source": []
  },
  {
   "cell_type": "code",
   "execution_count": null,
   "metadata": {
    "id": "K8wPygFja4gu"
   },
   "outputs": [],
   "source": []
  },
  {
   "cell_type": "code",
   "execution_count": null,
   "metadata": {
    "id": "c5op9ZaNa4gu"
   },
   "outputs": [],
   "source": [
    "def u1(c):\n",
    "    '''\n",
    "    Utility after retirement: w/o demand for liquid asset\n",
    "    '''\n",
    "    return c**(1-γ)/(1-γ)\n",
    "\n",
    "\n",
    "def u0(c, a):\n",
    "    '''\n",
    "    Utility before retirement: w/ demand for liquid asset\n",
    "    '''\n",
    "    return c**(1-gamma)/(1-gamma)+(alpha*a)**(1-gamma)/(1-gamma)"
   ]
  },
  {
   "cell_type": "code",
   "execution_count": null,
   "metadata": {
    "id": "6KhBBRyDa4gu"
   },
   "outputs": [],
   "source": [
    "# choice is a (asset, debt) tuple rows are assets, columns are debts\n",
    "\n",
    "choice = np.zeros((50,50))"
   ]
  },
  {
   "cell_type": "code",
   "execution_count": null,
   "metadata": {
    "id": "wjqEIXCpa4gu",
    "outputId": "6e3799c0-7853-4f9e-8227-477e6c2efda6"
   },
   "outputs": [
    {
     "data": {
      "text/plain": [
       "array([0.64285714, 0.65236686, 0.66216216, 0.6722561 , 0.68266254,\n",
       "       0.69339623, 0.70447284, 0.71590909, 0.72772277, 0.73993289,\n",
       "       0.75255973, 0.765625  , 0.77915194, 0.79316547, 0.80769231,\n",
       "       0.82276119, 0.83840304, 0.85465116, 0.8715415 , 0.8891129 ,\n",
       "       0.90740741, 0.92647059, 0.94635193, 0.96710526, 0.98878924,\n",
       "       1.01146789, 1.03521127, 1.06009615, 1.0862069 , 1.11363636,\n",
       "       1.14248705, 1.17287234, 1.20491803, 1.23876404, 1.27456647,\n",
       "       1.3125    , 1.35276074, 1.39556962, 1.44117647, 1.48986486,\n",
       "       1.54195804, 1.59782609, 1.65789474, 1.72265625, 1.79268293,\n",
       "       1.86864407, 1.95132743, 2.04166667, 2.1407767 , 2.25      ])"
      ]
     },
     "execution_count": 11,
     "metadata": {
      "tags": []
     },
     "output_type": "execute_result"
    }
   ],
   "source": [
    "s_grid"
   ]
  },
  {
   "cell_type": "code",
   "execution_count": null,
   "metadata": {
    "id": "DZVZPDgFa4gu"
   },
   "outputs": [],
   "source": [
    "grid = [(b,s) for b in b_grid for s in s_grid]"
   ]
  },
  {
   "cell_type": "code",
   "execution_count": null,
   "metadata": {
    "id": "ucRC5z2Ra4gu"
   },
   "outputs": [],
   "source": [
    "vT = choice \n",
    "for i in range(50):\n",
    "    vT[i,:] = 20 * u1(s_grid/20)"
   ]
  },
  {
   "cell_type": "code",
   "execution_count": null,
   "metadata": {
    "id": "5EfnYv3Wa4gu",
    "outputId": "7dbd1a2c-5d34-49b9-94e7-7055aff74987",
    "scrolled": true
   },
   "outputs": [
    {
     "data": {
      "text/plain": [
       "(50, 50)"
      ]
     },
     "execution_count": 13,
     "metadata": {
      "tags": []
     },
     "output_type": "execute_result"
    }
   ],
   "source": [
    "vT.shape"
   ]
  },
  {
   "cell_type": "code",
   "execution_count": null,
   "metadata": {
    "id": "xCJOklPwa4gv"
   },
   "outputs": [],
   "source": [
    "vT_1 = choice"
   ]
  },
  {
   "cell_type": "code",
   "execution_count": null,
   "metadata": {
    "id": "K7zhujAYa4gv",
    "outputId": "9dbc57bc-96c3-4d3b-e436-b27e1ba3d320"
   },
   "outputs": [
    {
     "data": {
      "text/plain": [
       "array([[0., 0., 0., ..., 0., 0., 0.],\n",
       "       [0., 0., 0., ..., 0., 0., 0.],\n",
       "       [0., 0., 0., ..., 0., 0., 0.],\n",
       "       ...,\n",
       "       [0., 0., 0., ..., 0., 0., 0.],\n",
       "       [0., 0., 0., ..., 0., 0., 0.],\n",
       "       [0., 0., 0., ..., 0., 0., 0.]])"
      ]
     },
     "execution_count": 18,
     "metadata": {
      "tags": []
     },
     "output_type": "execute_result"
    }
   ],
   "source": [
    "vT_1"
   ]
  },
  {
   "cell_type": "code",
   "execution_count": null,
   "metadata": {
    "id": "ZF-crMn0a4gv"
   },
   "outputs": [],
   "source": [
    "# rows are assets, cols are debts\n"
   ]
  },
  {
   "cell_type": "code",
   "execution_count": null,
   "metadata": {
    "id": "EsNNe6ICa4gv"
   },
   "outputs": [],
   "source": []
  },
  {
   "cell_type": "code",
   "execution_count": null,
   "metadata": {
    "id": "-GNk4ShLa4gv"
   },
   "outputs": [],
   "source": []
  },
  {
   "cell_type": "code",
   "execution_count": null,
   "metadata": {
    "id": "A0NB1w3la4gv",
    "outputId": "c886f86e-93a4-4149-96ed-dc6b7f262bcd",
    "scrolled": false
   },
   "outputs": [
    {
     "ename": "SyntaxError",
     "evalue": "unexpected EOF while parsing (<ipython-input-20-b4d89e460ff4>, line 1)",
     "output_type": "error",
     "traceback": [
      "\u001b[1;36m  File \u001b[1;32m\"<ipython-input-20-b4d89e460ff4>\"\u001b[1;36m, line \u001b[1;32m1\u001b[0m\n\u001b[1;33m    for t in range(22,-1,-1):\u001b[0m\n\u001b[1;37m                             ^\u001b[0m\n\u001b[1;31mSyntaxError\u001b[0m\u001b[1;31m:\u001b[0m unexpected EOF while parsing\n"
     ]
    }
   ],
   "source": [
    "for t in range(22,-1,-1):\n"
   ]
  },
  {
   "cell_type": "code",
   "execution_count": null,
   "metadata": {
    "id": "Xj2dyB7aa4gw"
   },
   "outputs": [],
   "source": []
  },
  {
   "cell_type": "code",
   "execution_count": null,
   "metadata": {
    "id": "-1bu1IT7a4gw"
   },
   "outputs": [],
   "source": []
  },
  {
   "cell_type": "code",
   "execution_count": null,
   "metadata": {
    "id": "ON8bBSKQa4gw"
   },
   "outputs": [],
   "source": [
    "def optimal_pol(α, β, δ, \n",
    "                grid_size=50, a_min=.1, a_max=10, b_max=5, \n",
    "                T=60-38+1, γ=3, p=.5, ρ=.03, σ=.1, Rs=1.022, Rb=1.197):\n",
    "    '''\n",
    "    Parameters\n",
    "    ----------\n",
    "    α : float \n",
    "        Demand for liquid asset\n",
    "    β : float between 0 and 1\n",
    "        Hyperbolic discount factor β\n",
    "    δ : float between 0 and 1\n",
    "        Hyperbolic discount factor δ\n",
    "    a_min : float greater than 0, optional\n",
    "        Lower bound of savings grid. Default is 0.1\n",
    "    a_max : float greater than a_min, optional\n",
    "        Upper bound of savings grid. Default is 10\n",
    "    b_max : float between 0 and a_max, optional\n",
    "        Upper bound of debt grid. Default is 5\n",
    "    grid_size : int, optional\n",
    "        Grid size of savings and debts. Default is 50\n",
    "    T : int, optional\n",
    "        Number of years in the lifetime consumption-saving-debt problem. Default is 23\n",
    "    γ : float greater than 1, optional\n",
    "        Risk aversion coefficient\n",
    "    p : float between 0 and 1, optional\n",
    "        Probability of income being high. Default is 0.5\n",
    "    ρ : float, optional\n",
    "        Income growth rate. Default is 0.03   \n",
    "    σ : float, optional\n",
    "        Income standard deviation\n",
    "    Rs : float, optional\n",
    "        Saving annual interesting rate. Default is 1.022\n",
    "    Rb : float, optional\n",
    "        Debt annual interesting rate. Default is 1.197\n",
    "    \n",
    "        \n",
    "    Returns\n",
    "    -------\n",
    "    pol_a : ndarray\n",
    "        Optimal savings a' in the next period given current state savings a\n",
    "    pol_b : ndarray\n",
    "        Optimal debt b' in the next period given current state savings a\n",
    "    pol_c : ndarray\n",
    "        Optimal consumption c in the current period given current state savings a\n",
    "    '''\n",
    "    \n",
    "    def u(x) :\n",
    "        '''\n",
    "        Helper function: risk-averse utility\n",
    "        '''\n",
    "        return (x**(1-γ)-10)/(1-γ)\n",
    "    \n",
    "    def _nanargmax(arr, axis=None):\n",
    "        '''\n",
    "        Helpfer function: find the optimal policy\n",
    "        '''\n",
    "        try:\n",
    "            return np.nanargmax(arr, axis)\n",
    "        except ValueError:\n",
    "            return np.nan\n",
    "    \n",
    "    # simulate income states\n",
    "    y_eps = (np.random.randint(2,size=T)*2-1)*σ/np.sqrt(2*np.pi)\n",
    "    y_pro = np.ones(T)\n",
    "    for t in range(1,T):\n",
    "        y_pro[t] = (1+ρ)*y_pro[t-1] + y_eps[t-1]\n",
    "    \n",
    "    # generate high/low states of income paths\n",
    "    y_high = y_pro\n",
    "    y_high[1:] = y_pro[:-1]+σ/np.sqrt(2*np.pi)\n",
    "\n",
    "    y_low = y_pro\n",
    "    y_low[1:]  = y_pro[:-1]-σ/np.sqrt(2*np.pi)\n",
    "    \n",
    "    # intialize policy grids\n",
    "    N_grid_a = grid_size\n",
    "    N_grid_b = grid_size\n",
    "    N_grid_tot = N_grid_a*N_grid_b\n",
    "    \n",
    "    a_grid = np.linspace(a_min, a_max, N_grid_a)\n",
    "    b_grid = np.linspace(0, b_max, N_grid_b)\n",
    "\n",
    "    # consumption and debt matrices for current period\n",
    "    a0 = np.repeat(np.repeat(a_grid,N_grid_b),N_grid_tot).reshape(N_grid_tot,N_grid_tot)\n",
    "    b0 = np.repeat(np.tile(b_grid,N_grid_a),N_grid_tot).reshape(N_grid_tot,N_grid_tot)\n",
    "\n",
    "    # consumption and debt matrices for next period\n",
    "    a1 = np.tile(np.repeat(a_grid,N_grid_b),N_grid_tot).reshape(N_grid_tot,N_grid_tot)\n",
    "    b1 = np.tile(np.tile(b_grid,N_grid_a),N_grid_tot).reshape(N_grid_tot,N_grid_tot)    \n",
    "    \n",
    "    # initialize consumption and policy matrices\n",
    "    ct_mat          = np.zeros((T, N_grid_tot, N_grid_tot))\n",
    "    ct_mat_high     = np.zeros((T, N_grid_tot, N_grid_tot))\n",
    "    ct_mat_low      = np.zeros((T, N_grid_tot, N_grid_tot))\n",
    "\n",
    "    pol_func_a   = np.zeros((N_grid_tot, T))*np.nan\n",
    "    pol_func_b   = np.zeros((N_grid_tot, T))*np.nan\n",
    "    pol_func_c   = np.zeros((N_grid_tot, T))*np.nan\n",
    "\n",
    "    # intialize final optimal policy vectors\n",
    "    pol_a = np.zeros(N_grid_a)\n",
    "    pol_b = np.zeros(N_grid_a)\n",
    "    pol_c = np.zeros(N_grid_a)\n",
    "\n",
    "    # backout consumption according to intertemporal budget constraint\n",
    "\n",
    "    # last period where b'==0: c = a + y - (a' + Rb b)/Rs\n",
    "    ct_mat[-1,:,:]      = a0 + y_pro[-1]/10  - (a1 + Rb * b0)/Rs\n",
    "    ct_mat_high[-1,:,:] = a0 + y_high[-1]/10 - (a1 + Rb * b0)/Rs\n",
    "    ct_mat_low[-1,:,:]  = a0 + y_low[-1]/10  - (a1 + Rb * b0)/Rs\n",
    "\n",
    "    # first period where b==0: c = a + y -(a'-b')/Rs\n",
    "    ct_mat[0,:,:]      = a0 + y_pro[0]/10  - (a1 - b1 )/Rs\n",
    "    ct_mat_high[0,:,:] = a0 + y_high[0]/10 - (a1 - b1 )/Rs\n",
    "    ct_mat_low[0,:,:]  = a0 + y_low[0]/10  - (a1 - b1 )/Rs\n",
    "\n",
    "    # middle: c = a + y -(a' -b' + Rb b)/Rs\n",
    "    for t in range(1,T-1):\n",
    "        ct_mat[t,:,:]      = a0 + y_pro[t]/10  - (a1 - b1 + Rb * b0)/Rs\n",
    "        ct_mat_high[t,:,:] = a0 + y_high[t]/10 - (a1 - b1 + Rb * b0)/Rs\n",
    "        ct_mat_low[t,:,:]  = a0 + y_low[t]/10  - (a1 - b1 + Rb * b0)/Rs\n",
    "\n",
    "    # trim consumptions < 0\n",
    "    ct_mat[ct_mat<0] = np.nan\n",
    "    ct_mat_high[ct_mat_high<0] = np.nan\n",
    "    ct_mat_low[ct_mat_low<0] = np.nan    \n",
    "\n",
    "    # Intialize v values after retirement\n",
    "    v_vals_old = 20*u(a1/20)\n",
    "    \n",
    "    # Period T: just before retirement\n",
    "\n",
    "    v_val  = u(ct_mat[-1,:,:]) + u(α * a0) + β*δ*v_vals_old\n",
    "\n",
    "    v_val_high  = u(ct_mat_high[-1,:,:]) + u(α * a0) + δ*v_vals_old\n",
    "    v_val_low   = u(ct_mat_low[-1,:,:]) + u(α * a0) + δ*v_vals_old\n",
    "\n",
    "    vmax   = np.nanmax(v_val,1)\n",
    "    vmax1h = np.nanmax(v_val_high,1)\n",
    "    vmax1l = np.nanmax(v_val_low,1)\n",
    "\n",
    "    argvmax = np.zeros(N_grid_tot) * np.nan\n",
    "\n",
    "    for idx in range(N_grid_tot): \n",
    "        argvmax[idx] = _nanargmax(v_val[idx,:])\n",
    "\n",
    "        # record the optimal policies\n",
    "        if ~np.isnan(argvmax[idx]):\n",
    "            pol_func_a[idx,-1] = a1[idx, int(argvmax[idx])]\n",
    "            pol_func_b[idx,-1] = b1[idx, int(argvmax[idx])]\n",
    "            pol_func_c[idx,-1] = ct_mat[-1, idx, int(argvmax[idx])]\n",
    "\n",
    "        \n",
    "    # Period 0-(T-1): the rest of life\n",
    "\n",
    "    for t in range(T-2, -1, -1):\n",
    "        pol_func_a_old = pol_func_a.copy() \n",
    "        pol_func_b_old = pol_func_b.copy() \n",
    "        pol_func_c_old = pol_func_c.copy()\n",
    "\n",
    "        v_vals_old = np.tile( p*vmax1h + (1-p)*vmax1l, (N_grid_tot,1) )\n",
    "\n",
    "        v_val       = u(ct_mat[t,:,:]) + u(α * a0) + β*δ*v_vals_old\n",
    "        v_val_high  = u(ct_mat_high[t,:,:]) + u(α * a0) + δ*v_vals_old\n",
    "        v_val_low   = u(ct_mat_low[t,:,:]) + u(α * a0) + δ*v_vals_old\n",
    "\n",
    "        vmax   = np.nanmax(v_val,1)\n",
    "        vmax1h = np.nanmax(v_val_high,1)\n",
    "        vmax1l = np.nanmax(v_val_low,1)\n",
    "\n",
    "        # record the index of optimal (a', b')\n",
    "\n",
    "        argvmax = np.zeros(N_grid_tot) * np.nan\n",
    "\n",
    "        for idx in range(N_grid_tot): \n",
    "            argvmax[idx] = _nanargmax(v_val[idx,:])\n",
    "\n",
    "            # record the optimal policies\n",
    "            if ~np.isnan(argvmax[idx]):\n",
    "                pol_func_a[idx,t] = a1[idx, int(argvmax[idx])]\n",
    "                pol_func_a[idx,(t+1):] = pol_func_a_old[int(argvmax[idx]),(t+1):]\n",
    "\n",
    "                pol_func_b[idx,t] = b1[idx, int(argvmax[idx])]\n",
    "                pol_func_b[idx,(t+1):] = pol_func_b_old[int(argvmax[idx]),(t+1):]\n",
    "\n",
    "                pol_func_c[idx,t] = ct_mat[t, idx, int(argvmax[idx])]\n",
    "                pol_func_c[idx,(t+1):] = pol_func_c_old[int(argvmax[idx]),(t+1):]\n",
    "    \n",
    "    pol_idx = [N_grid_b*i for i in range(N_grid_b)]\n",
    "    \n",
    "    pol_a = pol_func_a[pol_idx]\n",
    "    pol_b = pol_func_b[pol_idx]\n",
    "    pol_c = pol_func_c[pol_idx]\n",
    "    \n",
    "    return pol_a, pol_b, pol_c"
   ]
  }
 ],
 "metadata": {
  "colab": {
   "name": "beta-delta-tianyu.ipynb",
   "provenance": []
  },
  "kernelspec": {
   "display_name": "Python 3",
   "language": "python",
   "name": "python3"
  },
  "language_info": {
   "codemirror_mode": {
    "name": "ipython",
    "version": 3
   },
   "file_extension": ".py",
   "mimetype": "text/x-python",
   "name": "python",
   "nbconvert_exporter": "python",
   "pygments_lexer": "ipython3",
   "version": "3.7.10"
  },
  "varInspector": {
   "cols": {
    "lenName": 16,
    "lenType": 16,
    "lenVar": 40
   },
   "kernels_config": {
    "python": {
     "delete_cmd_postfix": "",
     "delete_cmd_prefix": "del ",
     "library": "var_list.py",
     "varRefreshCmd": "print(var_dic_list())"
    },
    "r": {
     "delete_cmd_postfix": ") ",
     "delete_cmd_prefix": "rm(",
     "library": "var_list.r",
     "varRefreshCmd": "cat(var_dic_list()) "
    }
   },
   "position": {
    "height": "152px",
    "left": "1118px",
    "right": "20px",
    "top": "120px",
    "width": "336px"
   },
   "types_to_exclude": [
    "module",
    "function",
    "builtin_function_or_method",
    "instance",
    "_Feature"
   ],
   "window_display": false
  }
 },
 "nbformat": 4,
 "nbformat_minor": 1
}
